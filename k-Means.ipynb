{
 "cells": [
  {
   "cell_type": "markdown",
   "metadata": {},
   "source": [
    "## Лабораторная робата №2"
   ]
  },
  {
   "cell_type": "code",
   "execution_count": 1,
   "metadata": {},
   "outputs": [],
   "source": [
    "import numpy as np\n",
    "import pandas as pd\n",
    "import matplotlib\n",
    "import matplotlib.pyplot as plt\n",
    "import os"
   ]
  },
  {
   "cell_type": "code",
   "execution_count": 2,
   "metadata": {
    "scrolled": true
   },
   "outputs": [],
   "source": [
    "os.chdir(\"C:/Users/вячеслав/Desktop/Lect_04/\")"
   ]
  },
  {
   "cell_type": "code",
   "execution_count": 3,
   "metadata": {},
   "outputs": [],
   "source": [
    "df = pd.read_csv(\"Econom_Cities_data.csv\", delimiter = ';', decimal = ',', index_col='City')"
   ]
  },
  {
   "cell_type": "code",
   "execution_count": 4,
   "metadata": {},
   "outputs": [
    {
     "data": {
      "text/html": [
       "<div>\n",
       "<style scoped>\n",
       "    .dataframe tbody tr th:only-of-type {\n",
       "        vertical-align: middle;\n",
       "    }\n",
       "\n",
       "    .dataframe tbody tr th {\n",
       "        vertical-align: top;\n",
       "    }\n",
       "\n",
       "    .dataframe thead th {\n",
       "        text-align: right;\n",
       "    }\n",
       "</style>\n",
       "<table border=\"1\" class=\"dataframe\">\n",
       "  <thead>\n",
       "    <tr style=\"text-align: right;\">\n",
       "      <th></th>\n",
       "      <th>Work</th>\n",
       "      <th>Price</th>\n",
       "      <th>Salary</th>\n",
       "    </tr>\n",
       "    <tr>\n",
       "      <th>City</th>\n",
       "      <th></th>\n",
       "      <th></th>\n",
       "      <th></th>\n",
       "    </tr>\n",
       "  </thead>\n",
       "  <tbody>\n",
       "    <tr>\n",
       "      <td>Amsterdam</td>\n",
       "      <td>1714</td>\n",
       "      <td>65.6</td>\n",
       "      <td>49.0</td>\n",
       "    </tr>\n",
       "    <tr>\n",
       "      <td>Athens</td>\n",
       "      <td>1792</td>\n",
       "      <td>53.8</td>\n",
       "      <td>30.4</td>\n",
       "    </tr>\n",
       "    <tr>\n",
       "      <td>Bogota</td>\n",
       "      <td>2152</td>\n",
       "      <td>37.9</td>\n",
       "      <td>11.5</td>\n",
       "    </tr>\n",
       "    <tr>\n",
       "      <td>Bombay</td>\n",
       "      <td>2052</td>\n",
       "      <td>30.3</td>\n",
       "      <td>5.3</td>\n",
       "    </tr>\n",
       "    <tr>\n",
       "      <td>Brussels</td>\n",
       "      <td>1708</td>\n",
       "      <td>73.8</td>\n",
       "      <td>50.5</td>\n",
       "    </tr>\n",
       "  </tbody>\n",
       "</table>\n",
       "</div>"
      ],
      "text/plain": [
       "           Work  Price  Salary\n",
       "City                          \n",
       "Amsterdam  1714   65.6    49.0\n",
       "Athens     1792   53.8    30.4\n",
       "Bogota     2152   37.9    11.5\n",
       "Bombay     2052   30.3     5.3\n",
       "Brussels   1708   73.8    50.5"
      ]
     },
     "execution_count": 4,
     "metadata": {},
     "output_type": "execute_result"
    }
   ],
   "source": [
    "df.head()"
   ]
  },
  {
   "cell_type": "code",
   "execution_count": 5,
   "metadata": {},
   "outputs": [
    {
     "name": "stdout",
     "output_type": "stream",
     "text": [
      "                Work  Price  Salary\n",
      "City                               \n",
      "Amsterdam       1714   65.6    49.0\n",
      "Athens          1792   53.8    30.4\n",
      "Bogota          2152   37.9    11.5\n",
      "Bombay          2052   30.3     5.3\n",
      "Brussels        1708   73.8    50.5\n",
      "Buenos_Aires    1971   56.1    12.5\n",
      "Cairo          -9999   37.1 -9999.0\n",
      "Caracas         2041   61.0    10.9\n",
      "Chicago         1924   73.9    61.9\n",
      "Copenhagen      1717   91.3    62.9\n",
      "Dublin          1759   76.0    41.4\n",
      "Dusseldorf      1693   78.5    60.2\n",
      "Frankfurt       1650   74.5    60.4\n",
      "Geneva          1880   95.9    90.3\n",
      "Helsinki        1667  113.6    66.6\n",
      "Hong_Kong       2375   63.8    27.8\n",
      "Houston         1978   71.9    46.3\n",
      "Jakarta        -9999   43.6 -9999.0\n",
      "Johannesburg    1945   51.1    24.0\n",
      "Kuala_Lumpur    2167   43.5     9.9\n",
      "Lagos           1786   45.2     2.7\n",
      "Lisbon          1742   56.2    18.8\n",
      "London          1737   84.2    46.2\n",
      "Los_Angeles     2068   79.8    65.2\n",
      "Luxembourg      1768   71.1    71.1\n",
      "Madrid          1710   93.8    50.0\n",
      "Manila          2268   40.0     4.0\n",
      "Mexico_City     1944   49.8     5.7\n",
      "Milan           1773   82.0    53.3\n",
      "Montreal        1827   72.7    56.3\n",
      "Nairobi         1958   45.0     5.8\n",
      "New_York        1942   83.3    65.8\n",
      "Nicosia         1825   47.9    28.3\n",
      "Oslo            1583  115.5    63.7\n",
      "Panama          2078   49.2    13.8\n",
      "Paris           1744   81.6    45.9\n",
      "Rio_de_Janeiro  1749   46.3    10.5\n",
      "San_Paulo       1856   48.9    11.1\n",
      "Seoul           1842   58.3    32.7\n",
      "Singpore        2042   64.4    16.1\n",
      "Stockholm       1805  111.3    39.2\n",
      "Sydney          1668   70.8    52.1\n",
      "Taipei          2145   84.3    34.5\n",
      "Tel_Aviv        2015   67.3    27.0\n",
      "Tokyo           1880  115.0    68.0\n",
      "Toronto         1888   70.2    58.2\n",
      "Vienna          1780   78.0    51.3\n",
      "Zurich          1868  100.0   100.0\n"
     ]
    }
   ],
   "source": [
    "print(df)"
   ]
  },
  {
   "cell_type": "markdown",
   "metadata": {},
   "source": [
    "Заметим, что Джакарта и Каир имееют странные показатели в 1-м и 3-м столбце, которые существенно отличаются от остальных, следовательно это выбросы и перед тем как построить дендограмму удалим их.  "
   ]
  },
  {
   "cell_type": "code",
   "execution_count": 6,
   "metadata": {},
   "outputs": [],
   "source": [
    "#Процесс удаления\n",
    "df = df.drop('Jakarta')\n",
    "df = df.drop('Cairo')"
   ]
  },
  {
   "cell_type": "code",
   "execution_count": 7,
   "metadata": {},
   "outputs": [
    {
     "name": "stdout",
     "output_type": "stream",
     "text": [
      "                Work  Price  Salary\n",
      "City                               \n",
      "Amsterdam       1714   65.6    49.0\n",
      "Athens          1792   53.8    30.4\n",
      "Bogota          2152   37.9    11.5\n",
      "Bombay          2052   30.3     5.3\n",
      "Brussels        1708   73.8    50.5\n",
      "Buenos_Aires    1971   56.1    12.5\n",
      "Caracas         2041   61.0    10.9\n",
      "Chicago         1924   73.9    61.9\n",
      "Copenhagen      1717   91.3    62.9\n",
      "Dublin          1759   76.0    41.4\n",
      "Dusseldorf      1693   78.5    60.2\n",
      "Frankfurt       1650   74.5    60.4\n",
      "Geneva          1880   95.9    90.3\n",
      "Helsinki        1667  113.6    66.6\n",
      "Hong_Kong       2375   63.8    27.8\n",
      "Houston         1978   71.9    46.3\n",
      "Johannesburg    1945   51.1    24.0\n",
      "Kuala_Lumpur    2167   43.5     9.9\n",
      "Lagos           1786   45.2     2.7\n",
      "Lisbon          1742   56.2    18.8\n",
      "London          1737   84.2    46.2\n",
      "Los_Angeles     2068   79.8    65.2\n",
      "Luxembourg      1768   71.1    71.1\n",
      "Madrid          1710   93.8    50.0\n",
      "Manila          2268   40.0     4.0\n",
      "Mexico_City     1944   49.8     5.7\n",
      "Milan           1773   82.0    53.3\n",
      "Montreal        1827   72.7    56.3\n",
      "Nairobi         1958   45.0     5.8\n",
      "New_York        1942   83.3    65.8\n",
      "Nicosia         1825   47.9    28.3\n",
      "Oslo            1583  115.5    63.7\n",
      "Panama          2078   49.2    13.8\n",
      "Paris           1744   81.6    45.9\n",
      "Rio_de_Janeiro  1749   46.3    10.5\n",
      "San_Paulo       1856   48.9    11.1\n",
      "Seoul           1842   58.3    32.7\n",
      "Singpore        2042   64.4    16.1\n",
      "Stockholm       1805  111.3    39.2\n",
      "Sydney          1668   70.8    52.1\n",
      "Taipei          2145   84.3    34.5\n",
      "Tel_Aviv        2015   67.3    27.0\n",
      "Tokyo           1880  115.0    68.0\n",
      "Toronto         1888   70.2    58.2\n",
      "Vienna          1780   78.0    51.3\n",
      "Zurich          1868  100.0   100.0\n"
     ]
    }
   ],
   "source": [
    "print(df)"
   ]
  },
  {
   "cell_type": "markdown",
   "metadata": {},
   "source": [
    "Заметим, что нам надо провести стандартизацию данных. "
   ]
  },
  {
   "cell_type": "code",
   "execution_count": 8,
   "metadata": {},
   "outputs": [
    {
     "data": {
      "text/html": [
       "<div>\n",
       "<style scoped>\n",
       "    .dataframe tbody tr th:only-of-type {\n",
       "        vertical-align: middle;\n",
       "    }\n",
       "\n",
       "    .dataframe tbody tr th {\n",
       "        vertical-align: top;\n",
       "    }\n",
       "\n",
       "    .dataframe thead th {\n",
       "        text-align: right;\n",
       "    }\n",
       "</style>\n",
       "<table border=\"1\" class=\"dataframe\">\n",
       "  <thead>\n",
       "    <tr style=\"text-align: right;\">\n",
       "      <th></th>\n",
       "      <th>Work</th>\n",
       "      <th>Price</th>\n",
       "      <th>Salary</th>\n",
       "    </tr>\n",
       "    <tr>\n",
       "      <th>City</th>\n",
       "      <th></th>\n",
       "      <th></th>\n",
       "      <th></th>\n",
       "    </tr>\n",
       "  </thead>\n",
       "  <tbody>\n",
       "    <tr>\n",
       "      <td>Amsterdam</td>\n",
       "      <td>-0.962166</td>\n",
       "      <td>-0.212712</td>\n",
       "      <td>0.386095</td>\n",
       "    </tr>\n",
       "    <tr>\n",
       "      <td>Athens</td>\n",
       "      <td>-0.509827</td>\n",
       "      <td>-0.770489</td>\n",
       "      <td>-0.373488</td>\n",
       "    </tr>\n",
       "    <tr>\n",
       "      <td>Bogota</td>\n",
       "      <td>1.577891</td>\n",
       "      <td>-1.522069</td>\n",
       "      <td>-1.145323</td>\n",
       "    </tr>\n",
       "    <tr>\n",
       "      <td>Bombay</td>\n",
       "      <td>0.997969</td>\n",
       "      <td>-1.881316</td>\n",
       "      <td>-1.398517</td>\n",
       "    </tr>\n",
       "    <tr>\n",
       "      <td>Brussels</td>\n",
       "      <td>-0.996961</td>\n",
       "      <td>0.174896</td>\n",
       "      <td>0.447351</td>\n",
       "    </tr>\n",
       "  </tbody>\n",
       "</table>\n",
       "</div>"
      ],
      "text/plain": [
       "               Work     Price    Salary\n",
       "City                                   \n",
       "Amsterdam -0.962166 -0.212712  0.386095\n",
       "Athens    -0.509827 -0.770489 -0.373488\n",
       "Bogota     1.577891 -1.522069 -1.145323\n",
       "Bombay     0.997969 -1.881316 -1.398517\n",
       "Brussels  -0.996961  0.174896  0.447351"
      ]
     },
     "execution_count": 8,
     "metadata": {},
     "output_type": "execute_result"
    }
   ],
   "source": [
    "#Стандартизируем данные \n",
    "from sklearn import preprocessing\n",
    "standart = preprocessing.StandardScaler()\n",
    "standart.fit(df)\n",
    "df_s = standart.transform(df)\n",
    "df_s = pd.DataFrame(df_s, index = df.index, columns = df.columns)\n",
    "df_s.head()"
   ]
  },
  {
   "cell_type": "markdown",
   "metadata": {},
   "source": [
    "Чтобы определить число кластеров, рассмотрим каменистую осыпь."
   ]
  },
  {
   "cell_type": "code",
   "execution_count": 9,
   "metadata": {},
   "outputs": [
    {
     "data": {
      "image/png": "[encoded data removed]",
      "text/plain": [
       "<Figure size 432x288 with 1 Axes>"
      ]
     },
     "metadata": {
      "needs_background": "light"
     },
     "output_type": "display_data"
    }
   ],
   "source": [
    "from sklearn.cluster import KMeans\n",
    "K = range(1, 13)\n",
    "models = [KMeans(n_clusters=k, random_state=42).fit(df_s) for k in K]\n",
    "dist = [model.inertia_ for model in models]\n",
    "\n",
    "# Plot the elbow\n",
    "plt.plot(K, dist, marker='o')\n",
    "plt.xlabel('k')\n",
    "plt.ylabel('Sum of distances')\n",
    "plt.title('The Elbow Method showing the optimal k')\n",
    "plt.show()"
   ]
  },
  {
   "cell_type": "markdown",
   "metadata": {},
   "source": [
    "Посмотрев на каменистую осыпь, возьмем в качестве числа кластеров k = 8.Чтобы разбить наши исходные данные на кластеры будем пользоваться методом k - means."
   ]
  },
  {
   "cell_type": "code",
   "execution_count": 9,
   "metadata": {},
   "outputs": [],
   "source": [
    "from sklearn.cluster import KMeans\n",
    "model = KMeans(n_clusters=8, random_state=42, max_iter=300, n_init=10, verbose=0 )"
   ]
  },
  {
   "cell_type": "code",
   "execution_count": 10,
   "metadata": {},
   "outputs": [
    {
     "data": {
      "text/plain": [
       "KMeans(algorithm='auto', copy_x=True, init='k-means++', max_iter=300,\n",
       "       n_clusters=8, n_init=10, n_jobs=None, precompute_distances='auto',\n",
       "       random_state=42, tol=0.0001, verbose=0)"
      ]
     },
     "execution_count": 10,
     "metadata": {},
     "output_type": "execute_result"
    }
   ],
   "source": [
    "#model.fit(df_s)"
   ]
  },
  {
   "cell_type": "code",
   "execution_count": 11,
   "metadata": {},
   "outputs": [],
   "source": [
    "df_s['cluster'] = model.labels_"
   ]
  },
  {
   "cell_type": "code",
   "execution_count": 19,
   "metadata": {},
   "outputs": [],
   "source": [
    "#model.cluster_centers_"
   ]
  },
  {
   "cell_type": "code",
   "execution_count": 20,
   "metadata": {},
   "outputs": [
    {
     "data": {
      "text/html": [
       "<div>\n",
       "<style scoped>\n",
       "    .dataframe tbody tr th:only-of-type {\n",
       "        vertical-align: middle;\n",
       "    }\n",
       "\n",
       "    .dataframe tbody tr th {\n",
       "        vertical-align: top;\n",
       "    }\n",
       "\n",
       "    .dataframe thead th {\n",
       "        text-align: right;\n",
       "    }\n",
       "</style>\n",
       "<table border=\"1\" class=\"dataframe\">\n",
       "  <thead>\n",
       "    <tr style=\"text-align: right;\">\n",
       "      <th></th>\n",
       "      <th>Work</th>\n",
       "      <th>Price</th>\n",
       "      <th>Salary</th>\n",
       "    </tr>\n",
       "    <tr>\n",
       "      <th>cluster</th>\n",
       "      <th></th>\n",
       "      <th></th>\n",
       "      <th></th>\n",
       "    </tr>\n",
       "  </thead>\n",
       "  <tbody>\n",
       "    <tr>\n",
       "      <td>0</td>\n",
       "      <td>-0.857780</td>\n",
       "      <td>0.379842</td>\n",
       "      <td>0.574532</td>\n",
       "    </tr>\n",
       "    <tr>\n",
       "      <td>1</td>\n",
       "      <td>0.626820</td>\n",
       "      <td>-0.648264</td>\n",
       "      <td>-1.019892</td>\n",
       "    </tr>\n",
       "    <tr>\n",
       "      <td>2</td>\n",
       "      <td>-0.470061</td>\n",
       "      <td>-0.905544</td>\n",
       "      <td>-0.830288</td>\n",
       "    </tr>\n",
       "    <tr>\n",
       "      <td>3</td>\n",
       "      <td>-0.022693</td>\n",
       "      <td>1.585095</td>\n",
       "      <td>1.901177</td>\n",
       "    </tr>\n",
       "    <tr>\n",
       "      <td>4</td>\n",
       "      <td>0.643251</td>\n",
       "      <td>0.337187</td>\n",
       "      <td>0.644053</td>\n",
       "    </tr>\n",
       "    <tr>\n",
       "      <td>5</td>\n",
       "      <td>2.871116</td>\n",
       "      <td>-0.297796</td>\n",
       "      <td>-0.479667</td>\n",
       "    </tr>\n",
       "    <tr>\n",
       "      <td>6</td>\n",
       "      <td>1.528018</td>\n",
       "      <td>-1.414296</td>\n",
       "      <td>-1.251501</td>\n",
       "    </tr>\n",
       "    <tr>\n",
       "      <td>7</td>\n",
       "      <td>-1.130343</td>\n",
       "      <td>2.049909</td>\n",
       "      <td>0.692378</td>\n",
       "    </tr>\n",
       "  </tbody>\n",
       "</table>\n",
       "</div>"
      ],
      "text/plain": [
       "             Work     Price    Salary\n",
       "cluster                              \n",
       "0       -0.857780  0.379842  0.574532\n",
       "1        0.626820 -0.648264 -1.019892\n",
       "2       -0.470061 -0.905544 -0.830288\n",
       "3       -0.022693  1.585095  1.901177\n",
       "4        0.643251  0.337187  0.644053\n",
       "5        2.871116 -0.297796 -0.479667\n",
       "6        1.528018 -1.414296 -1.251501\n",
       "7       -1.130343  2.049909  0.692378"
      ]
     },
     "execution_count": 20,
     "metadata": {},
     "output_type": "execute_result"
    }
   ],
   "source": [
    "df_s.groupby('cluster').mean()"
   ]
  },
  {
   "cell_type": "code",
   "execution_count": 21,
   "metadata": {},
   "outputs": [],
   "source": [
    "#df_s.groupby('cluster').size()"
   ]
  },
  {
   "cell_type": "code",
   "execution_count": 22,
   "metadata": {},
   "outputs": [],
   "source": [
    "#model.labels_"
   ]
  },
  {
   "cell_type": "code",
   "execution_count": 23,
   "metadata": {},
   "outputs": [
    {
     "data": {
      "text/plain": [
       "City\n",
       "Amsterdam         0\n",
       "Sydney            0\n",
       "Paris             0\n",
       "Montreal          0\n",
       "Milan             0\n",
       "Madrid            0\n",
       "Vienna            0\n",
       "London            0\n",
       "Frankfurt         0\n",
       "Dusseldorf        0\n",
       "Luxembourg        0\n",
       "Copenhagen        0\n",
       "Dublin            0\n",
       "Brussels          0\n",
       "Tel_Aviv          1\n",
       "Singpore          1\n",
       "Mexico_City       1\n",
       "Buenos_Aires      1\n",
       "Caracas           1\n",
       "Nairobi           1\n",
       "Johannesburg      1\n",
       "Lagos             2\n",
       "Athens            2\n",
       "Seoul             2\n",
       "San_Paulo         2\n",
       "Nicosia           2\n",
       "Rio_de_Janeiro    2\n",
       "Lisbon            2\n",
       "Zurich            3\n",
       "Tokyo             3\n",
       "Geneva            3\n",
       "Toronto           4\n",
       "Taipei            4\n",
       "Chicago           4\n",
       "New_York          4\n",
       "Houston           4\n",
       "Los_Angeles       4\n",
       "Hong_Kong         5\n",
       "Bombay            6\n",
       "Manila            6\n",
       "Kuala_Lumpur      6\n",
       "Bogota            6\n",
       "Panama            6\n",
       "Oslo              7\n",
       "Helsinki          7\n",
       "Stockholm         7\n",
       "Name: cluster, dtype: int32"
      ]
     },
     "execution_count": 23,
     "metadata": {},
     "output_type": "execute_result"
    }
   ],
   "source": [
    "df_s['cluster'].sort_values()"
   ]
  },
  {
   "cell_type": "markdown",
   "metadata": {},
   "source": [
    "Опишем получившиеся кластеры:\n",
    "- 0) Города с уровнем жизни выше среднего\n",
    "- 1) Города с низкой зарплатой и средней или чуть выше средней стоймостью на жилье, скорее всего это города с высоким социальным неравенством \n",
    "- 2) Города зависимых капиталистических стран с уровнем жизни около среднего\n",
    "- 3) Города Швейцарии + Токио, т.е. города с достаточно высоким уровнем жизни\n",
    "- 4) Города развитых капиталистических стран, с достаточно большим уровнем безработицы, судя по большому числу часов работы и средней зарплаты \n",
    "- 5) Города с среднем уровнем жизни, с высоким числом часов работы и с зарплатами ниже среднего, скорее всего в этих городах нередки протесты\n",
    "- 6) Города с дешевой рабочей силой и с низким уровнем жизни, скорее всего это города, в которых расположено много предприятий крупных компаний развитых капиталистических стран, использующих дешевый труд\n",
    "- 7) Города Скандинавских стран \n",
    "\n",
    "Заметим, что разбиение на кластеры получилось очень похожим на разбиение с помощью иерархического анализа, за исключением некоторых моментов, а именно:\n",
    "- Тайбэй отделился от кластера с Гонконг и добавился в кластер с городами Северной Америки \n",
    "- Токио отделился от кластера с Скандинавскими городами и добавился в кластер с городами Швейцари"
   ]
  },
  {
   "cell_type": "code",
   "execution_count": null,
   "metadata": {},
   "outputs": [],
   "source": []
  }
 ],
 "metadata": {
  "kernelspec": {
   "display_name": "Python 3",
   "language": "python",
   "name": "python3"
  },
  "language_info": {
   "codemirror_mode": {
    "name": "ipython",
    "version": 3
   },
   "file_extension": ".py",
   "mimetype": "text/x-python",
   "name": "python",
   "nbconvert_exporter": "python",
   "pygments_lexer": "ipython3",
   "version": "3.7.4"
  }
 },
 "nbformat": 4,
 "nbformat_minor": 2
}
