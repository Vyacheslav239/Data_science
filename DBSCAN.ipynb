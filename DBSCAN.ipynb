{
 "cells": [
  {
   "cell_type": "markdown",
   "metadata": {},
   "source": [
    "## Лабораторная робата №3"
   ]
  },
  {
   "cell_type": "code",
   "execution_count": 121,
   "metadata": {},
   "outputs": [],
   "source": [
    "import numpy as np\n",
    "import pandas as pd\n",
    "import matplotlib\n",
    "import matplotlib.pyplot as plt\n",
    "import os\n",
    "import ipykernel\n",
    "from sklearn.cluster import DBSCAN\n",
    "from scipy.cluster.hierarchy import dendrogram, linkage, fcluster"
   ]
  },
  {
   "cell_type": "code",
   "execution_count": 122,
   "metadata": {
    "scrolled": true
   },
   "outputs": [],
   "source": [
    "os.chdir(\"C:/Users/вячеслав/Desktop/Lect_04/\")"
   ]
  },
  {
   "cell_type": "code",
   "execution_count": 123,
   "metadata": {},
   "outputs": [],
   "source": [
    "df = pd.read_csv(\"Econom_Cities_data.csv\", delimiter = ';', decimal = ',', index_col='City')"
   ]
  },
  {
   "cell_type": "code",
   "execution_count": 124,
   "metadata": {},
   "outputs": [
    {
     "data": {
      "text/html": [
       "<div>\n",
       "<style scoped>\n",
       "    .dataframe tbody tr th:only-of-type {\n",
       "        vertical-align: middle;\n",
       "    }\n",
       "\n",
       "    .dataframe tbody tr th {\n",
       "        vertical-align: top;\n",
       "    }\n",
       "\n",
       "    .dataframe thead th {\n",
       "        text-align: right;\n",
       "    }\n",
       "</style>\n",
       "<table border=\"1\" class=\"dataframe\">\n",
       "  <thead>\n",
       "    <tr style=\"text-align: right;\">\n",
       "      <th></th>\n",
       "      <th>Work</th>\n",
       "      <th>Price</th>\n",
       "      <th>Salary</th>\n",
       "    </tr>\n",
       "    <tr>\n",
       "      <th>City</th>\n",
       "      <th></th>\n",
       "      <th></th>\n",
       "      <th></th>\n",
       "    </tr>\n",
       "  </thead>\n",
       "  <tbody>\n",
       "    <tr>\n",
       "      <td>Amsterdam</td>\n",
       "      <td>1714</td>\n",
       "      <td>65.6</td>\n",
       "      <td>49.0</td>\n",
       "    </tr>\n",
       "    <tr>\n",
       "      <td>Athens</td>\n",
       "      <td>1792</td>\n",
       "      <td>53.8</td>\n",
       "      <td>30.4</td>\n",
       "    </tr>\n",
       "    <tr>\n",
       "      <td>Bogota</td>\n",
       "      <td>2152</td>\n",
       "      <td>37.9</td>\n",
       "      <td>11.5</td>\n",
       "    </tr>\n",
       "    <tr>\n",
       "      <td>Bombay</td>\n",
       "      <td>2052</td>\n",
       "      <td>30.3</td>\n",
       "      <td>5.3</td>\n",
       "    </tr>\n",
       "    <tr>\n",
       "      <td>Brussels</td>\n",
       "      <td>1708</td>\n",
       "      <td>73.8</td>\n",
       "      <td>50.5</td>\n",
       "    </tr>\n",
       "  </tbody>\n",
       "</table>\n",
       "</div>"
      ],
      "text/plain": [
       "           Work  Price  Salary\n",
       "City                          \n",
       "Amsterdam  1714   65.6    49.0\n",
       "Athens     1792   53.8    30.4\n",
       "Bogota     2152   37.9    11.5\n",
       "Bombay     2052   30.3     5.3\n",
       "Brussels   1708   73.8    50.5"
      ]
     },
     "execution_count": 124,
     "metadata": {},
     "output_type": "execute_result"
    }
   ],
   "source": [
    "df.head()"
   ]
  },
  {
   "cell_type": "code",
   "execution_count": 125,
   "metadata": {},
   "outputs": [
    {
     "name": "stdout",
     "output_type": "stream",
     "text": [
      "                Work  Price  Salary\n",
      "City                               \n",
      "Amsterdam       1714   65.6    49.0\n",
      "Athens          1792   53.8    30.4\n",
      "Bogota          2152   37.9    11.5\n",
      "Bombay          2052   30.3     5.3\n",
      "Brussels        1708   73.8    50.5\n",
      "Buenos_Aires    1971   56.1    12.5\n",
      "Cairo          -9999   37.1 -9999.0\n",
      "Caracas         2041   61.0    10.9\n",
      "Chicago         1924   73.9    61.9\n",
      "Copenhagen      1717   91.3    62.9\n",
      "Dublin          1759   76.0    41.4\n",
      "Dusseldorf      1693   78.5    60.2\n",
      "Frankfurt       1650   74.5    60.4\n",
      "Geneva          1880   95.9    90.3\n",
      "Helsinki        1667  113.6    66.6\n",
      "Hong_Kong       2375   63.8    27.8\n",
      "Houston         1978   71.9    46.3\n",
      "Jakarta        -9999   43.6 -9999.0\n",
      "Johannesburg    1945   51.1    24.0\n",
      "Kuala_Lumpur    2167   43.5     9.9\n",
      "Lagos           1786   45.2     2.7\n",
      "Lisbon          1742   56.2    18.8\n",
      "London          1737   84.2    46.2\n",
      "Los_Angeles     2068   79.8    65.2\n",
      "Luxembourg      1768   71.1    71.1\n",
      "Madrid          1710   93.8    50.0\n",
      "Manila          2268   40.0     4.0\n",
      "Mexico_City     1944   49.8     5.7\n",
      "Milan           1773   82.0    53.3\n",
      "Montreal        1827   72.7    56.3\n",
      "Nairobi         1958   45.0     5.8\n",
      "New_York        1942   83.3    65.8\n",
      "Nicosia         1825   47.9    28.3\n",
      "Oslo            1583  115.5    63.7\n",
      "Panama          2078   49.2    13.8\n",
      "Paris           1744   81.6    45.9\n",
      "Rio_de_Janeiro  1749   46.3    10.5\n",
      "San_Paulo       1856   48.9    11.1\n",
      "Seoul           1842   58.3    32.7\n",
      "Singpore        2042   64.4    16.1\n",
      "Stockholm       1805  111.3    39.2\n",
      "Sydney          1668   70.8    52.1\n",
      "Taipei          2145   84.3    34.5\n",
      "Tel_Aviv        2015   67.3    27.0\n",
      "Tokyo           1880  115.0    68.0\n",
      "Toronto         1888   70.2    58.2\n",
      "Vienna          1780   78.0    51.3\n",
      "Zurich          1868  100.0   100.0\n"
     ]
    }
   ],
   "source": [
    "print(df)"
   ]
  },
  {
   "cell_type": "markdown",
   "metadata": {},
   "source": [
    "Заметим, что Джакарта и Каир имееют странные показатели в 1-м и 3-м столбце, которые существенно отличаются от остальных, следовательно это выбросы и перед тем как построить дендограмму удалим их.  "
   ]
  },
  {
   "cell_type": "code",
   "execution_count": 126,
   "metadata": {},
   "outputs": [],
   "source": [
    "#Процесс удаления\n",
    "df = df.drop('Jakarta')\n",
    "df = df.drop('Cairo')"
   ]
  },
  {
   "cell_type": "code",
   "execution_count": 127,
   "metadata": {},
   "outputs": [
    {
     "name": "stdout",
     "output_type": "stream",
     "text": [
      "                Work  Price  Salary\n",
      "City                               \n",
      "Amsterdam       1714   65.6    49.0\n",
      "Athens          1792   53.8    30.4\n",
      "Bogota          2152   37.9    11.5\n",
      "Bombay          2052   30.3     5.3\n",
      "Brussels        1708   73.8    50.5\n",
      "Buenos_Aires    1971   56.1    12.5\n",
      "Caracas         2041   61.0    10.9\n",
      "Chicago         1924   73.9    61.9\n",
      "Copenhagen      1717   91.3    62.9\n",
      "Dublin          1759   76.0    41.4\n",
      "Dusseldorf      1693   78.5    60.2\n",
      "Frankfurt       1650   74.5    60.4\n",
      "Geneva          1880   95.9    90.3\n",
      "Helsinki        1667  113.6    66.6\n",
      "Hong_Kong       2375   63.8    27.8\n",
      "Houston         1978   71.9    46.3\n",
      "Johannesburg    1945   51.1    24.0\n",
      "Kuala_Lumpur    2167   43.5     9.9\n",
      "Lagos           1786   45.2     2.7\n",
      "Lisbon          1742   56.2    18.8\n",
      "London          1737   84.2    46.2\n",
      "Los_Angeles     2068   79.8    65.2\n",
      "Luxembourg      1768   71.1    71.1\n",
      "Madrid          1710   93.8    50.0\n",
      "Manila          2268   40.0     4.0\n",
      "Mexico_City     1944   49.8     5.7\n",
      "Milan           1773   82.0    53.3\n",
      "Montreal        1827   72.7    56.3\n",
      "Nairobi         1958   45.0     5.8\n",
      "New_York        1942   83.3    65.8\n",
      "Nicosia         1825   47.9    28.3\n",
      "Oslo            1583  115.5    63.7\n",
      "Panama          2078   49.2    13.8\n",
      "Paris           1744   81.6    45.9\n",
      "Rio_de_Janeiro  1749   46.3    10.5\n",
      "San_Paulo       1856   48.9    11.1\n",
      "Seoul           1842   58.3    32.7\n",
      "Singpore        2042   64.4    16.1\n",
      "Stockholm       1805  111.3    39.2\n",
      "Sydney          1668   70.8    52.1\n",
      "Taipei          2145   84.3    34.5\n",
      "Tel_Aviv        2015   67.3    27.0\n",
      "Tokyo           1880  115.0    68.0\n",
      "Toronto         1888   70.2    58.2\n",
      "Vienna          1780   78.0    51.3\n",
      "Zurich          1868  100.0   100.0\n"
     ]
    }
   ],
   "source": [
    "print(df)"
   ]
  },
  {
   "cell_type": "markdown",
   "metadata": {},
   "source": [
    "Заметим, что нам надо провести стандартизацию данных. "
   ]
  },
  {
   "cell_type": "code",
   "execution_count": 128,
   "metadata": {},
   "outputs": [
    {
     "data": {
      "text/html": [
       "<div>\n",
       "<style scoped>\n",
       "    .dataframe tbody tr th:only-of-type {\n",
       "        vertical-align: middle;\n",
       "    }\n",
       "\n",
       "    .dataframe tbody tr th {\n",
       "        vertical-align: top;\n",
       "    }\n",
       "\n",
       "    .dataframe thead th {\n",
       "        text-align: right;\n",
       "    }\n",
       "</style>\n",
       "<table border=\"1\" class=\"dataframe\">\n",
       "  <thead>\n",
       "    <tr style=\"text-align: right;\">\n",
       "      <th></th>\n",
       "      <th>Work</th>\n",
       "      <th>Price</th>\n",
       "      <th>Salary</th>\n",
       "    </tr>\n",
       "    <tr>\n",
       "      <th>City</th>\n",
       "      <th></th>\n",
       "      <th></th>\n",
       "      <th></th>\n",
       "    </tr>\n",
       "  </thead>\n",
       "  <tbody>\n",
       "    <tr>\n",
       "      <td>Amsterdam</td>\n",
       "      <td>-0.962166</td>\n",
       "      <td>-0.212712</td>\n",
       "      <td>0.386095</td>\n",
       "    </tr>\n",
       "    <tr>\n",
       "      <td>Athens</td>\n",
       "      <td>-0.509827</td>\n",
       "      <td>-0.770489</td>\n",
       "      <td>-0.373488</td>\n",
       "    </tr>\n",
       "    <tr>\n",
       "      <td>Bogota</td>\n",
       "      <td>1.577891</td>\n",
       "      <td>-1.522069</td>\n",
       "      <td>-1.145323</td>\n",
       "    </tr>\n",
       "    <tr>\n",
       "      <td>Bombay</td>\n",
       "      <td>0.997969</td>\n",
       "      <td>-1.881316</td>\n",
       "      <td>-1.398517</td>\n",
       "    </tr>\n",
       "    <tr>\n",
       "      <td>Brussels</td>\n",
       "      <td>-0.996961</td>\n",
       "      <td>0.174896</td>\n",
       "      <td>0.447351</td>\n",
       "    </tr>\n",
       "  </tbody>\n",
       "</table>\n",
       "</div>"
      ],
      "text/plain": [
       "               Work     Price    Salary\n",
       "City                                   \n",
       "Amsterdam -0.962166 -0.212712  0.386095\n",
       "Athens    -0.509827 -0.770489 -0.373488\n",
       "Bogota     1.577891 -1.522069 -1.145323\n",
       "Bombay     0.997969 -1.881316 -1.398517\n",
       "Brussels  -0.996961  0.174896  0.447351"
      ]
     },
     "execution_count": 128,
     "metadata": {},
     "output_type": "execute_result"
    }
   ],
   "source": [
    "#Стандартизируем данные \n",
    "from sklearn import preprocessing\n",
    "standart = preprocessing.StandardScaler()\n",
    "standart.fit(df)\n",
    "df_s = standart.transform(df)\n",
    "df_s = pd.DataFrame(df_s, index = df.index, columns = df.columns)\n",
    "df_s.head()"
   ]
  },
  {
   "cell_type": "markdown",
   "metadata": {},
   "source": [
    "Начнем разбиение нашего датасета на кластеры с помощью метода *DBSCAN*. Для этого нам надо подобрать значения *eps* и *m*. "
   ]
  },
  {
   "cell_type": "code",
   "execution_count": 155,
   "metadata": {},
   "outputs": [
    {
     "data": {
      "text/plain": [
       "array([ 0,  1, -1, -1,  0,  2,  2,  0,  0,  0,  0,  0, -1, -1, -1, -1,  2,\n",
       "       -1, -1, -1,  0, -1, -1,  0, -1,  2,  0,  0,  2,  0,  1, -1, -1,  0,\n",
       "       -1, -1,  1,  2, -1,  0, -1,  2, -1,  0,  0, -1], dtype=int64)"
      ]
     },
     "execution_count": 155,
     "metadata": {},
     "output_type": "execute_result"
    }
   ],
   "source": [
    "dbscan_1 = DBSCAN(eps = 0.8, metric = 'euclidean', min_samples = 3)\n",
    "\n",
    "dbscan_1.fit(df_s)\n",
    "\n",
    "dbscan_1.labels_"
   ]
  },
  {
   "cell_type": "code",
   "execution_count": 131,
   "metadata": {},
   "outputs": [
    {
     "name": "stdout",
     "output_type": "stream",
     "text": [
      "[[-1 23]\n",
      " [ 0 14]\n",
      " [ 1  3]\n",
      " [ 2  6]]\n"
     ]
    }
   ],
   "source": [
    "unique, counts = np.unique(dbscan_1.labels_, return_counts=True)\n",
    "print(np.asarray((unique, counts)).T)"
   ]
  },
  {
   "cell_type": "markdown",
   "metadata": {},
   "source": [
    "После долгих и мучительных подборов, наилучший результат получился при следующих значениях *eps* и *m*, а именно:"
   ]
  },
  {
   "cell_type": "code",
   "execution_count": 159,
   "metadata": {},
   "outputs": [
    {
     "name": "stdout",
     "output_type": "stream",
     "text": [
      "[[-1 10]\n",
      " [ 0 16]\n",
      " [ 1  3]\n",
      " [ 2  2]\n",
      " [ 3  7]\n",
      " [ 4  2]\n",
      " [ 5  2]\n",
      " [ 6  2]\n",
      " [ 7  2]]\n"
     ]
    }
   ],
   "source": [
    "dbscan_1 = DBSCAN(eps=0.81, metric='euclidean', min_samples=2)\n",
    "dbscan_1.fit(df_s)\n",
    "unique, counts = np.unique(dbscan_1.labels_, return_counts=True)\n",
    "print(np.asarray((unique, counts)).T)"
   ]
  },
  {
   "cell_type": "code",
   "execution_count": 160,
   "metadata": {},
   "outputs": [],
   "source": [
    "df_s['dbscan_1'] = dbscan_1.labels_"
   ]
  },
  {
   "cell_type": "markdown",
   "metadata": {},
   "source": [
    "Посмотрим на разбиение городов по кластерам. "
   ]
  },
  {
   "cell_type": "code",
   "execution_count": 161,
   "metadata": {},
   "outputs": [
    {
     "data": {
      "text/plain": [
       "City\n",
       "Luxembourg       -1\n",
       "Tokyo            -1\n",
       "Bombay           -1\n",
       "Taipei           -1\n",
       "Houston          -1\n",
       "Stockholm        -1\n",
       "Hong_Kong        -1\n",
       "Panama           -1\n",
       "Los_Angeles      -1\n",
       "Manila           -1\n",
       "Vienna            0\n",
       "Madrid            0\n",
       "New_York          0\n",
       "Montreal          0\n",
       "Paris             0\n",
       "Sydney            0\n",
       "Toronto           0\n",
       "Milan             0\n",
       "London            0\n",
       "Amsterdam         0\n",
       "Copenhagen        0\n",
       "Frankfurt         0\n",
       "Dusseldorf        0\n",
       "Dublin            0\n",
       "Chicago           0\n",
       "Brussels          0\n",
       "Athens            1\n",
       "Seoul             1\n",
       "Nicosia           1\n",
       "Kuala_Lumpur      2\n",
       "Bogota            2\n",
       "Caracas           3\n",
       "Buenos_Aires      3\n",
       "Nairobi           3\n",
       "Mexico_City       3\n",
       "Johannesburg      3\n",
       "Tel_Aviv          3\n",
       "Singpore          3\n",
       "Zurich            4\n",
       "Geneva            4\n",
       "Oslo              5\n",
       "Helsinki          5\n",
       "Rio_de_Janeiro    6\n",
       "Lagos             6\n",
       "Lisbon            7\n",
       "San_Paulo         7\n",
       "Name: dbscan_1, dtype: int64"
      ]
     },
     "execution_count": 161,
     "metadata": {},
     "output_type": "execute_result"
    }
   ],
   "source": [
    "df_s['dbscan_1'].sort_values()"
   ]
  },
  {
   "cell_type": "markdown",
   "metadata": {},
   "source": [
    "Заметим, что мы нам не удалось избавиться от выбросов, \n",
    "опишем получившиеся кластеры:\n",
    "- -1) Города развитых капиталистических стран, с достаточно большим уровнем безработицы, судя по большому числу часов работы и средней или ниже, чем средней, зарплатой\n",
    "- 0) Города с уровнем жизни выше среднего\n",
    "- 1) Города зависимых капиталистических стран с уровнем жизни около среднего\n",
    "- 2) Города с дешевой рабочей силой и с низким уровнем жизни, скорее всего это города, в которых расположено много предприятий крупных компаний развитых капиталистических стран, использующих дешевый труд\n",
    "- 3) Города с низкой зарплатой и средней или чуть выше средней стоймостью на жилье, скорее всего это города с высоким социальным неравенством\n",
    "- 4) Города Швейцари\n",
    "- 5) Города Скандинавских стран с развитой социальной структурой \n",
    "- 6) Города с высоким числом часов работ, с очень низкими зарпалатами и с высокой, относительно зарплат, стоймостию жизни\n",
    "- 7) Города с высоким числом часов работ, с очень низкими зарпалатами и с высокой, относительно зарплат, стоймостию жизни\n",
    "\n",
    "\n",
    "Оказалось, что при таком разбиение на кластеры, у нас города из кластеров 6 и 7 должны находится в одном кластере. Объединим эти кластеры. "
   ]
  },
  {
   "cell_type": "code",
   "execution_count": 163,
   "metadata": {},
   "outputs": [],
   "source": [
    "#Объединям эти кластеры \n",
    "for i in range(44):\n",
    "    if (df_s['dbscan_1'][i] == 7):\n",
    "        df_s['dbscan_1'][i] = 6"
   ]
  },
  {
   "cell_type": "markdown",
   "metadata": {},
   "source": [
    "Теперь можем привести окончательное распределение городов по кластерам и описание получившихся кластеров."
   ]
  },
  {
   "cell_type": "code",
   "execution_count": 165,
   "metadata": {},
   "outputs": [
    {
     "data": {
      "text/plain": [
       "City\n",
       "Luxembourg       -1\n",
       "Tokyo            -1\n",
       "Bombay           -1\n",
       "Taipei           -1\n",
       "Houston          -1\n",
       "Stockholm        -1\n",
       "Hong_Kong        -1\n",
       "Panama           -1\n",
       "Los_Angeles      -1\n",
       "Manila           -1\n",
       "Vienna            0\n",
       "Madrid            0\n",
       "New_York          0\n",
       "Montreal          0\n",
       "Paris             0\n",
       "Sydney            0\n",
       "Toronto           0\n",
       "Milan             0\n",
       "London            0\n",
       "Amsterdam         0\n",
       "Copenhagen        0\n",
       "Frankfurt         0\n",
       "Dusseldorf        0\n",
       "Dublin            0\n",
       "Chicago           0\n",
       "Brussels          0\n",
       "Athens            1\n",
       "Seoul             1\n",
       "Nicosia           1\n",
       "Kuala_Lumpur      2\n",
       "Bogota            2\n",
       "Caracas           3\n",
       "Buenos_Aires      3\n",
       "Nairobi           3\n",
       "Mexico_City       3\n",
       "Johannesburg      3\n",
       "Tel_Aviv          3\n",
       "Singpore          3\n",
       "Zurich            4\n",
       "Geneva            4\n",
       "Oslo              5\n",
       "Helsinki          5\n",
       "Rio_de_Janeiro    6\n",
       "Lisbon            6\n",
       "San_Paulo         6\n",
       "Lagos             6\n",
       "Name: dbscan_1, dtype: int64"
      ]
     },
     "execution_count": 165,
     "metadata": {},
     "output_type": "execute_result"
    }
   ],
   "source": [
    "df_s['dbscan_1'].sort_values()"
   ]
  },
  {
   "cell_type": "markdown",
   "metadata": {},
   "source": [
    "Описание кластеров:\n",
    "- -1) Города развитых капиталистических стран, с достаточно большим уровнем безработицы, судя по большому числу часов работы и средней или ниже, чем средней зарплатой\n",
    "- 0) Города с уровнем жизни выше среднего\n",
    "- 1) Города зависимых капиталистических стран с уровнем жизни около среднего\n",
    "- 2) Города с дешевой рабочей силой и с низким уровнем жизни, скорее всего это города, в которых расположено много предприятий крупных компаний развитых капиталистических стран, использующих дешевый труд\n",
    "- 3) Города с низкой зарплатой и средней или чуть выше средней стоймостью на жилье, скорее всего это города с высоким социальным неравенством\n",
    "- 4) Города Швейцари\n",
    "- 5) Города Скандинавских стран с развитой социальной структурой \n",
    "- 6) Города с высоким числом часов работ, с очень низкими зарпалатами и с высокой, относительно зарплат, стоймостию жизни\n",
    "\n",
    "Заметим, что получившиеся разбиние похоже на разбиения получившиеся с помощью иерархического анализа и метода *k-means*. Но стоит заметить, что оно успает предыдущим разбиениям, также были сложности с подбором подходящих значений *eps* и *m*, видимо метод *DBSCAN* не очень подходит для данного датасета. "
   ]
  },
  {
   "cell_type": "code",
   "execution_count": null,
   "metadata": {},
   "outputs": [],
   "source": []
  }
 ],
 "metadata": {
  "kernelspec": {
   "display_name": "Python 3",
   "language": "python",
   "name": "python3"
  },
  "language_info": {
   "codemirror_mode": {
    "name": "ipython",
    "version": 3
   },
   "file_extension": ".py",
   "mimetype": "text/x-python",
   "name": "python",
   "nbconvert_exporter": "python",
   "pygments_lexer": "ipython3",
   "version": "3.7.4"
  }
 },
 "nbformat": 4,
 "nbformat_minor": 2
}
