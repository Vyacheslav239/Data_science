{
 "cells": [
  {
   "cell_type": "markdown",
   "metadata": {},
   "source": [
    "# Лабораторная работа №5"
   ]
  },
  {
   "cell_type": "code",
   "execution_count": 9,
   "metadata": {
    "id": "O6SF2M0e0V7i"
   },
   "outputs": [],
   "source": [
    "import pandas as pd\n",
    "import numpy as np\n",
    "import matplotlib\n",
    "import matplotlib.pyplot as plt\n",
    "from scipy import stats\n",
    "matplotlib.style.use('ggplot')\n",
    "%matplotlib inline\n",
    "\n",
    "from pandas.plotting import scatter_matrix\n",
    "\n",
    "import seaborn as sns\n",
    "\n",
    "import math\n",
    "from sklearn import preprocessing"
   ]
  },
  {
   "cell_type": "code",
   "execution_count": 10,
   "metadata": {
    "id": "0vDZPE7f0V7l"
   },
   "outputs": [],
   "source": [
    "# import os\n",
    "# os.chdir(\"C:/Users/вячеслав/Desktop/Lab_01/Lab_01/\")"
   ]
  },
  {
   "cell_type": "code",
   "execution_count": 8,
   "metadata": {
    "colab": {
     "base_uri": "https://localhost:8080/",
     "height": 266
    },
    "id": "J_ADpsVP0V7l",
    "outputId": "d81740b3-fbac-46fe-be48-61c3a4835c68"
   },
   "outputs": [
    {
     "data": {
      "text/html": [
       "<div>\n",
       "<style scoped>\n",
       "    .dataframe tbody tr th:only-of-type {\n",
       "        vertical-align: middle;\n",
       "    }\n",
       "\n",
       "    .dataframe tbody tr th {\n",
       "        vertical-align: top;\n",
       "    }\n",
       "\n",
       "    .dataframe thead th {\n",
       "        text-align: right;\n",
       "    }\n",
       "</style>\n",
       "<table border=\"1\" class=\"dataframe\">\n",
       "  <thead>\n",
       "    <tr style=\"text-align: right;\">\n",
       "      <th></th>\n",
       "      <th>ID</th>\n",
       "      <th>LIMIT_BAL</th>\n",
       "      <th>SEX</th>\n",
       "      <th>EDUCATION</th>\n",
       "      <th>MARRIAGE</th>\n",
       "      <th>AGE</th>\n",
       "      <th>PAY_0</th>\n",
       "      <th>PAY_2</th>\n",
       "      <th>PAY_3</th>\n",
       "      <th>PAY_4</th>\n",
       "      <th>PAY_5</th>\n",
       "      <th>PAY_6</th>\n",
       "      <th>BILL_AMT1</th>\n",
       "      <th>BILL_AMT2</th>\n",
       "      <th>BILL_AMT3</th>\n",
       "      <th>BILL_AMT4</th>\n",
       "      <th>BILL_AMT5</th>\n",
       "      <th>BILL_AMT6</th>\n",
       "      <th>PAY_AMT1</th>\n",
       "      <th>PAY_AMT2</th>\n",
       "      <th>PAY_AMT3</th>\n",
       "      <th>PAY_AMT4</th>\n",
       "      <th>PAY_AMT5</th>\n",
       "      <th>PAY_AMT6</th>\n",
       "      <th>default payment next month</th>\n",
       "    </tr>\n",
       "  </thead>\n",
       "  <tbody>\n",
       "    <tr>\n",
       "      <th>0</th>\n",
       "      <td>1</td>\n",
       "      <td>20000</td>\n",
       "      <td>2</td>\n",
       "      <td>2</td>\n",
       "      <td>1</td>\n",
       "      <td>24</td>\n",
       "      <td>2</td>\n",
       "      <td>2</td>\n",
       "      <td>-1</td>\n",
       "      <td>-1</td>\n",
       "      <td>-2</td>\n",
       "      <td>-2</td>\n",
       "      <td>3913</td>\n",
       "      <td>3102</td>\n",
       "      <td>689</td>\n",
       "      <td>0</td>\n",
       "      <td>0</td>\n",
       "      <td>0</td>\n",
       "      <td>0</td>\n",
       "      <td>689</td>\n",
       "      <td>0</td>\n",
       "      <td>0</td>\n",
       "      <td>0</td>\n",
       "      <td>0</td>\n",
       "      <td>1</td>\n",
       "    </tr>\n",
       "    <tr>\n",
       "      <th>1</th>\n",
       "      <td>2</td>\n",
       "      <td>120000</td>\n",
       "      <td>2</td>\n",
       "      <td>2</td>\n",
       "      <td>2</td>\n",
       "      <td>26</td>\n",
       "      <td>-1</td>\n",
       "      <td>2</td>\n",
       "      <td>0</td>\n",
       "      <td>0</td>\n",
       "      <td>0</td>\n",
       "      <td>2</td>\n",
       "      <td>2682</td>\n",
       "      <td>1725</td>\n",
       "      <td>2682</td>\n",
       "      <td>3272</td>\n",
       "      <td>3455</td>\n",
       "      <td>3261</td>\n",
       "      <td>0</td>\n",
       "      <td>1000</td>\n",
       "      <td>1000</td>\n",
       "      <td>1000</td>\n",
       "      <td>0</td>\n",
       "      <td>2000</td>\n",
       "      <td>1</td>\n",
       "    </tr>\n",
       "    <tr>\n",
       "      <th>2</th>\n",
       "      <td>3</td>\n",
       "      <td>90000</td>\n",
       "      <td>2</td>\n",
       "      <td>2</td>\n",
       "      <td>2</td>\n",
       "      <td>34</td>\n",
       "      <td>0</td>\n",
       "      <td>0</td>\n",
       "      <td>0</td>\n",
       "      <td>0</td>\n",
       "      <td>0</td>\n",
       "      <td>0</td>\n",
       "      <td>29239</td>\n",
       "      <td>14027</td>\n",
       "      <td>13559</td>\n",
       "      <td>14331</td>\n",
       "      <td>14948</td>\n",
       "      <td>15549</td>\n",
       "      <td>1518</td>\n",
       "      <td>1500</td>\n",
       "      <td>1000</td>\n",
       "      <td>1000</td>\n",
       "      <td>1000</td>\n",
       "      <td>5000</td>\n",
       "      <td>0</td>\n",
       "    </tr>\n",
       "    <tr>\n",
       "      <th>3</th>\n",
       "      <td>4</td>\n",
       "      <td>50000</td>\n",
       "      <td>2</td>\n",
       "      <td>2</td>\n",
       "      <td>1</td>\n",
       "      <td>37</td>\n",
       "      <td>0</td>\n",
       "      <td>0</td>\n",
       "      <td>0</td>\n",
       "      <td>0</td>\n",
       "      <td>0</td>\n",
       "      <td>0</td>\n",
       "      <td>46990</td>\n",
       "      <td>48233</td>\n",
       "      <td>49291</td>\n",
       "      <td>28314</td>\n",
       "      <td>28959</td>\n",
       "      <td>29547</td>\n",
       "      <td>2000</td>\n",
       "      <td>2019</td>\n",
       "      <td>1200</td>\n",
       "      <td>1100</td>\n",
       "      <td>1069</td>\n",
       "      <td>1000</td>\n",
       "      <td>0</td>\n",
       "    </tr>\n",
       "    <tr>\n",
       "      <th>4</th>\n",
       "      <td>5</td>\n",
       "      <td>50000</td>\n",
       "      <td>1</td>\n",
       "      <td>2</td>\n",
       "      <td>1</td>\n",
       "      <td>57</td>\n",
       "      <td>-1</td>\n",
       "      <td>0</td>\n",
       "      <td>-1</td>\n",
       "      <td>0</td>\n",
       "      <td>0</td>\n",
       "      <td>0</td>\n",
       "      <td>8617</td>\n",
       "      <td>5670</td>\n",
       "      <td>35835</td>\n",
       "      <td>20940</td>\n",
       "      <td>19146</td>\n",
       "      <td>19131</td>\n",
       "      <td>2000</td>\n",
       "      <td>36681</td>\n",
       "      <td>10000</td>\n",
       "      <td>9000</td>\n",
       "      <td>689</td>\n",
       "      <td>679</td>\n",
       "      <td>0</td>\n",
       "    </tr>\n",
       "  </tbody>\n",
       "</table>\n",
       "</div>"
      ],
      "text/plain": [
       "   ID  LIMIT_BAL  SEX  ...  PAY_AMT5  PAY_AMT6  default payment next month\n",
       "0   1      20000    2  ...         0         0                           1\n",
       "1   2     120000    2  ...         0      2000                           1\n",
       "2   3      90000    2  ...      1000      5000                           0\n",
       "3   4      50000    2  ...      1069      1000                           0\n",
       "4   5      50000    1  ...       689       679                           0\n",
       "\n",
       "[5 rows x 25 columns]"
      ]
     },
     "execution_count": 8,
     "metadata": {
      "tags": []
     },
     "output_type": "execute_result"
    }
   ],
   "source": [
    "# df = pd.read_excel('default of credit card clients.xls', header=1, index_col=0)\n",
    "df = pd.read_excel('default of credit card clients.xls', header=1)\n",
    "df.head()"
   ]
  },
  {
   "cell_type": "code",
   "execution_count": 11,
   "metadata": {
    "colab": {
     "base_uri": "https://localhost:8080/"
    },
    "id": "_nkanbLl0V7m",
    "outputId": "74ec4143-db45-46c8-e504-70a327fb4069"
   },
   "outputs": [
    {
     "data": {
      "text/plain": [
       "(30000, 25)"
      ]
     },
     "execution_count": 11,
     "metadata": {
      "tags": []
     },
     "output_type": "execute_result"
    }
   ],
   "source": [
    "df.shape"
   ]
  },
  {
   "cell_type": "code",
   "execution_count": 12,
   "metadata": {
    "colab": {
     "base_uri": "https://localhost:8080/",
     "height": 637
    },
    "id": "G2eCL5Mh0V7n",
    "outputId": "b5f0725f-8d59-4b45-e59d-b9dde6ff70c3"
   },
   "outputs": [
    {
     "data": {
      "text/plain": [
       "(25.5, -0.5)"
      ]
     },
     "execution_count": 12,
     "metadata": {
      "tags": []
     },
     "output_type": "execute_result"
    },
    {
     "data": {
      "image/png": "[encoded data removed]",
      "text/plain": [
       "<Figure size 1080x576 with 2 Axes>"
      ]
     },
     "metadata": {
      "needs_background": "light",
      "tags": []
     },
     "output_type": "display_data"
    }
   ],
   "source": [
    "df_corr = df.corr()\n",
    "\n",
    "plt.figure(figsize=(15,8))\n",
    "ax = sns.heatmap(df_corr, annot=True, vmin=-1, vmax=1) \n",
    "bottom, top = ax.get_ylim()\n",
    "ax.set_ylim(bottom + 0.5, top - 0.5)"
   ]
  },
  {
   "cell_type": "code",
   "execution_count": 13,
   "metadata": {
    "colab": {
     "base_uri": "https://localhost:8080/"
    },
    "id": "h66McqQj0V7n",
    "outputId": "7643483c-a02a-4df3-c290-6742e431be53"
   },
   "outputs": [
    {
     "data": {
      "text/plain": [
       "0    23364\n",
       "1     6636\n",
       "Name: default payment next month, dtype: int64"
      ]
     },
     "execution_count": 13,
     "metadata": {
      "tags": []
     },
     "output_type": "execute_result"
    }
   ],
   "source": [
    "df['default payment next month'].value_counts()"
   ]
  },
  {
   "cell_type": "markdown",
   "metadata": {
    "id": "vqRAK3Rl0V7o"
   },
   "source": [
    "Видим, что классы не сбалансированы."
   ]
  },
  {
   "cell_type": "code",
   "execution_count": 14,
   "metadata": {
    "id": "DACAPKXI0V7o"
   },
   "outputs": [],
   "source": [
    "y = df['default payment next month']\n",
    "X = df.drop(columns=['default payment next month'])"
   ]
  },
  {
   "cell_type": "code",
   "execution_count": 15,
   "metadata": {
    "colab": {
     "base_uri": "https://localhost:8080/",
     "height": 215
    },
    "id": "BI-rk1vU0V7o",
    "outputId": "b120658e-d7cc-4625-c53f-cbfb256e033c"
   },
   "outputs": [
    {
     "data": {
      "text/html": [
       "<div>\n",
       "<style scoped>\n",
       "    .dataframe tbody tr th:only-of-type {\n",
       "        vertical-align: middle;\n",
       "    }\n",
       "\n",
       "    .dataframe tbody tr th {\n",
       "        vertical-align: top;\n",
       "    }\n",
       "\n",
       "    .dataframe thead th {\n",
       "        text-align: right;\n",
       "    }\n",
       "</style>\n",
       "<table border=\"1\" class=\"dataframe\">\n",
       "  <thead>\n",
       "    <tr style=\"text-align: right;\">\n",
       "      <th></th>\n",
       "      <th>ID</th>\n",
       "      <th>LIMIT_BAL</th>\n",
       "      <th>SEX</th>\n",
       "      <th>EDUCATION</th>\n",
       "      <th>MARRIAGE</th>\n",
       "      <th>AGE</th>\n",
       "      <th>PAY_0</th>\n",
       "      <th>PAY_2</th>\n",
       "      <th>PAY_3</th>\n",
       "      <th>PAY_4</th>\n",
       "      <th>PAY_5</th>\n",
       "      <th>PAY_6</th>\n",
       "      <th>BILL_AMT1</th>\n",
       "      <th>BILL_AMT2</th>\n",
       "      <th>BILL_AMT3</th>\n",
       "      <th>BILL_AMT4</th>\n",
       "      <th>BILL_AMT5</th>\n",
       "      <th>BILL_AMT6</th>\n",
       "      <th>PAY_AMT1</th>\n",
       "      <th>PAY_AMT2</th>\n",
       "      <th>PAY_AMT3</th>\n",
       "      <th>PAY_AMT4</th>\n",
       "      <th>PAY_AMT5</th>\n",
       "      <th>PAY_AMT6</th>\n",
       "    </tr>\n",
       "  </thead>\n",
       "  <tbody>\n",
       "    <tr>\n",
       "      <th>0</th>\n",
       "      <td>1</td>\n",
       "      <td>20000</td>\n",
       "      <td>2</td>\n",
       "      <td>2</td>\n",
       "      <td>1</td>\n",
       "      <td>24</td>\n",
       "      <td>2</td>\n",
       "      <td>2</td>\n",
       "      <td>-1</td>\n",
       "      <td>-1</td>\n",
       "      <td>-2</td>\n",
       "      <td>-2</td>\n",
       "      <td>3913</td>\n",
       "      <td>3102</td>\n",
       "      <td>689</td>\n",
       "      <td>0</td>\n",
       "      <td>0</td>\n",
       "      <td>0</td>\n",
       "      <td>0</td>\n",
       "      <td>689</td>\n",
       "      <td>0</td>\n",
       "      <td>0</td>\n",
       "      <td>0</td>\n",
       "      <td>0</td>\n",
       "    </tr>\n",
       "    <tr>\n",
       "      <th>1</th>\n",
       "      <td>2</td>\n",
       "      <td>120000</td>\n",
       "      <td>2</td>\n",
       "      <td>2</td>\n",
       "      <td>2</td>\n",
       "      <td>26</td>\n",
       "      <td>-1</td>\n",
       "      <td>2</td>\n",
       "      <td>0</td>\n",
       "      <td>0</td>\n",
       "      <td>0</td>\n",
       "      <td>2</td>\n",
       "      <td>2682</td>\n",
       "      <td>1725</td>\n",
       "      <td>2682</td>\n",
       "      <td>3272</td>\n",
       "      <td>3455</td>\n",
       "      <td>3261</td>\n",
       "      <td>0</td>\n",
       "      <td>1000</td>\n",
       "      <td>1000</td>\n",
       "      <td>1000</td>\n",
       "      <td>0</td>\n",
       "      <td>2000</td>\n",
       "    </tr>\n",
       "    <tr>\n",
       "      <th>2</th>\n",
       "      <td>3</td>\n",
       "      <td>90000</td>\n",
       "      <td>2</td>\n",
       "      <td>2</td>\n",
       "      <td>2</td>\n",
       "      <td>34</td>\n",
       "      <td>0</td>\n",
       "      <td>0</td>\n",
       "      <td>0</td>\n",
       "      <td>0</td>\n",
       "      <td>0</td>\n",
       "      <td>0</td>\n",
       "      <td>29239</td>\n",
       "      <td>14027</td>\n",
       "      <td>13559</td>\n",
       "      <td>14331</td>\n",
       "      <td>14948</td>\n",
       "      <td>15549</td>\n",
       "      <td>1518</td>\n",
       "      <td>1500</td>\n",
       "      <td>1000</td>\n",
       "      <td>1000</td>\n",
       "      <td>1000</td>\n",
       "      <td>5000</td>\n",
       "    </tr>\n",
       "    <tr>\n",
       "      <th>3</th>\n",
       "      <td>4</td>\n",
       "      <td>50000</td>\n",
       "      <td>2</td>\n",
       "      <td>2</td>\n",
       "      <td>1</td>\n",
       "      <td>37</td>\n",
       "      <td>0</td>\n",
       "      <td>0</td>\n",
       "      <td>0</td>\n",
       "      <td>0</td>\n",
       "      <td>0</td>\n",
       "      <td>0</td>\n",
       "      <td>46990</td>\n",
       "      <td>48233</td>\n",
       "      <td>49291</td>\n",
       "      <td>28314</td>\n",
       "      <td>28959</td>\n",
       "      <td>29547</td>\n",
       "      <td>2000</td>\n",
       "      <td>2019</td>\n",
       "      <td>1200</td>\n",
       "      <td>1100</td>\n",
       "      <td>1069</td>\n",
       "      <td>1000</td>\n",
       "    </tr>\n",
       "    <tr>\n",
       "      <th>4</th>\n",
       "      <td>5</td>\n",
       "      <td>50000</td>\n",
       "      <td>1</td>\n",
       "      <td>2</td>\n",
       "      <td>1</td>\n",
       "      <td>57</td>\n",
       "      <td>-1</td>\n",
       "      <td>0</td>\n",
       "      <td>-1</td>\n",
       "      <td>0</td>\n",
       "      <td>0</td>\n",
       "      <td>0</td>\n",
       "      <td>8617</td>\n",
       "      <td>5670</td>\n",
       "      <td>35835</td>\n",
       "      <td>20940</td>\n",
       "      <td>19146</td>\n",
       "      <td>19131</td>\n",
       "      <td>2000</td>\n",
       "      <td>36681</td>\n",
       "      <td>10000</td>\n",
       "      <td>9000</td>\n",
       "      <td>689</td>\n",
       "      <td>679</td>\n",
       "    </tr>\n",
       "  </tbody>\n",
       "</table>\n",
       "</div>"
      ],
      "text/plain": [
       "   ID  LIMIT_BAL  SEX  EDUCATION  ...  PAY_AMT3  PAY_AMT4  PAY_AMT5  PAY_AMT6\n",
       "0   1      20000    2          2  ...         0         0         0         0\n",
       "1   2     120000    2          2  ...      1000      1000         0      2000\n",
       "2   3      90000    2          2  ...      1000      1000      1000      5000\n",
       "3   4      50000    2          2  ...      1200      1100      1069      1000\n",
       "4   5      50000    1          2  ...     10000      9000       689       679\n",
       "\n",
       "[5 rows x 24 columns]"
      ]
     },
     "execution_count": 15,
     "metadata": {
      "tags": []
     },
     "output_type": "execute_result"
    }
   ],
   "source": [
    "X.head()"
   ]
  },
  {
   "cell_type": "markdown",
   "metadata": {
    "id": "56c3afAs0V7p"
   },
   "source": [
    "Сделаем обучающие и тестовые выборки"
   ]
  },
  {
   "cell_type": "code",
   "execution_count": 16,
   "metadata": {
    "id": "XbJrEkKy0V7p"
   },
   "outputs": [],
   "source": [
    "from sklearn.model_selection import train_test_split  \n",
    "X_train, X_test, y_train, y_test = train_test_split(X, y, test_size=0.33, random_state=1234)"
   ]
  },
  {
   "cell_type": "code",
   "execution_count": 17,
   "metadata": {
    "id": "vClDG6QM0V7p"
   },
   "outputs": [],
   "source": [
    "from xgboost import XGBClassifier\n",
    "from sklearn.model_selection import GridSearchCV"
   ]
  },
  {
   "cell_type": "code",
   "execution_count": 18,
   "metadata": {
    "id": "v7MFR5r10V7q"
   },
   "outputs": [],
   "source": [
    "grid_param = {  \n",
    "    'n_estimators': [500],\n",
    "    'max_depth': [3]\n",
    "}"
   ]
  },
  {
   "cell_type": "code",
   "execution_count": 63,
   "metadata": {
    "id": "VWdueRAZ0V7q"
   },
   "outputs": [],
   "source": [
    "grid_search_res = GridSearchCV(cv=5, error_score='raise',\n",
    "       estimator=XGBClassifier(base_score=0.5, seed=1234, \n",
    "                               \n",
    "       objective='binary:logistic',                  \n",
    "       colsample_bylevel=1, colsample_bytree=0.8, subsample=0.8,\n",
    "       gamma=0, learning_rate=0.1, max_delta_step=0, \n",
    "       min_child_weight=1, missing=None, nthread=-1,\n",
    "       reg_alpha=0, reg_lambda=1, \n",
    "       scale_pos_weight=1), n_jobs=-1,\n",
    "       param_grid=grid_param,\n",
    "       pre_dispatch='2*n_jobs', refit=True, scoring='accuracy', verbose=0)"
   ]
  },
  {
   "cell_type": "code",
   "execution_count": 64,
   "metadata": {
    "colab": {
     "base_uri": "https://localhost:8080/"
    },
    "id": "h3lQtp_-0V7q",
    "outputId": "797e8ea4-4c71-4a67-d33a-30e87ea64764"
   },
   "outputs": [
    {
     "data": {
      "text/plain": [
       "GridSearchCV(cv=5, error_score='raise',\n",
       "             estimator=XGBClassifier(base_score=0.5, booster='gbtree',\n",
       "                                     colsample_bylevel=1, colsample_bynode=1,\n",
       "                                     colsample_bytree=0.8, gamma=0,\n",
       "                                     learning_rate=0.1, max_delta_step=0,\n",
       "                                     max_depth=3, min_child_weight=1,\n",
       "                                     missing=None, n_estimators=100, n_jobs=1,\n",
       "                                     nthread=-1, objective='binary:logistic',\n",
       "                                     random_state=0, reg_alpha=0, reg_lambda=1,\n",
       "                                     scale_pos_weight=1, seed=1234, silent=None,\n",
       "                                     subsample=0.8, verbosity=1),\n",
       "             iid='deprecated', n_jobs=-1,\n",
       "             param_grid={'max_depth': [3], 'n_estimators': [500]},\n",
       "             pre_dispatch='2*n_jobs', refit=True, return_train_score=False,\n",
       "             scoring='accuracy', verbose=0)"
      ]
     },
     "execution_count": 64,
     "metadata": {
      "tags": []
     },
     "output_type": "execute_result"
    }
   ],
   "source": [
    "grid_search_res.fit(X_train, y_train)"
   ]
  },
  {
   "cell_type": "code",
   "execution_count": 65,
   "metadata": {
    "colab": {
     "base_uri": "https://localhost:8080/"
    },
    "id": "Vz6Zm_HV0V7q",
    "outputId": "d7b7de47-4bc2-4231-e903-627a9eb2fe86"
   },
   "outputs": [
    {
     "name": "stdout",
     "output_type": "stream",
     "text": [
      "Best params on dev set:\n",
      "{'max_depth': 3, 'n_estimators': 500}\n"
     ]
    }
   ],
   "source": [
    "print(\"Best params on dev set:\")\n",
    "print(grid_search_res.best_params_)"
   ]
  },
  {
   "cell_type": "code",
   "execution_count": 73,
   "metadata": {
    "id": "ZbxQlg6e0V7r"
   },
   "outputs": [],
   "source": [
    "y_pred_train = grid_search_res.predict(X_train)\n",
    "y_pred_test = grid_search_res.predict(X_test)"
   ]
  },
  {
   "cell_type": "code",
   "execution_count": 67,
   "metadata": {
    "colab": {
     "base_uri": "https://localhost:8080/",
     "height": 106
    },
    "id": "QfNc0qq40V7r",
    "outputId": "b66046c3-c265-4938-add7-e3d8bdcab268"
   },
   "outputs": [
    {
     "data": {
      "text/html": [
       "<div>\n",
       "<style scoped>\n",
       "    .dataframe tbody tr th:only-of-type {\n",
       "        vertical-align: middle;\n",
       "    }\n",
       "\n",
       "    .dataframe tbody tr th {\n",
       "        vertical-align: top;\n",
       "    }\n",
       "\n",
       "    .dataframe thead th {\n",
       "        text-align: right;\n",
       "    }\n",
       "</style>\n",
       "<table border=\"1\" class=\"dataframe\">\n",
       "  <thead>\n",
       "    <tr style=\"text-align: right;\">\n",
       "      <th></th>\n",
       "      <th>0</th>\n",
       "      <th>1</th>\n",
       "    </tr>\n",
       "  </thead>\n",
       "  <tbody>\n",
       "    <tr>\n",
       "      <th>0</th>\n",
       "      <td>7326</td>\n",
       "      <td>354</td>\n",
       "    </tr>\n",
       "    <tr>\n",
       "      <th>1</th>\n",
       "      <td>899</td>\n",
       "      <td>1321</td>\n",
       "    </tr>\n",
       "  </tbody>\n",
       "</table>\n",
       "</div>"
      ],
      "text/plain": [
       "      0     1\n",
       "0  7326   354\n",
       "1   899  1321"
      ]
     },
     "execution_count": 67,
     "metadata": {
      "tags": []
     },
     "output_type": "execute_result"
    }
   ],
   "source": [
    "from sklearn import metrics\n",
    "conf_mat = metrics.confusion_matrix(y_test, y_pred_test)\n",
    "conf_mat = pd.DataFrame(conf_mat, index=grid_search_res.classes_, columns=grid_search_res.classes_)\n",
    "conf_mat"
   ]
  },
  {
   "cell_type": "code",
   "execution_count": 68,
   "metadata": {
    "colab": {
     "base_uri": "https://localhost:8080/",
     "height": 106
    },
    "id": "kqasQoqR0V7r",
    "outputId": "85186089-e27e-4e03-bf1e-5ade6fda0290"
   },
   "outputs": [
    {
     "data": {
      "text/html": [
       "<div>\n",
       "<style scoped>\n",
       "    .dataframe tbody tr th:only-of-type {\n",
       "        vertical-align: middle;\n",
       "    }\n",
       "\n",
       "    .dataframe tbody tr th {\n",
       "        vertical-align: top;\n",
       "    }\n",
       "\n",
       "    .dataframe thead th {\n",
       "        text-align: right;\n",
       "    }\n",
       "</style>\n",
       "<table border=\"1\" class=\"dataframe\">\n",
       "  <thead>\n",
       "    <tr style=\"text-align: right;\">\n",
       "      <th></th>\n",
       "      <th>0</th>\n",
       "      <th>1</th>\n",
       "    </tr>\n",
       "  </thead>\n",
       "  <tbody>\n",
       "    <tr>\n",
       "      <th>0</th>\n",
       "      <td>15226</td>\n",
       "      <td>458</td>\n",
       "    </tr>\n",
       "    <tr>\n",
       "      <th>1</th>\n",
       "      <td>1464</td>\n",
       "      <td>2952</td>\n",
       "    </tr>\n",
       "  </tbody>\n",
       "</table>\n",
       "</div>"
      ],
      "text/plain": [
       "       0     1\n",
       "0  15226   458\n",
       "1   1464  2952"
      ]
     },
     "execution_count": 68,
     "metadata": {
      "tags": []
     },
     "output_type": "execute_result"
    }
   ],
   "source": [
    "conf_mat = metrics.confusion_matrix(y_train, y_pred_train)\n",
    "conf_mat = pd.DataFrame(conf_mat, index=grid_search_res.classes_, columns=grid_search_res.classes_)\n",
    "conf_mat"
   ]
  },
  {
   "cell_type": "markdown",
   "metadata": {
    "id": "wEzWBgvZ0V7s"
   },
   "source": [
    "Строим предсказание модели."
   ]
  },
  {
   "cell_type": "code",
   "execution_count": 69,
   "metadata": {
    "colab": {
     "base_uri": "https://localhost:8080/"
    },
    "id": "CtQmNXuK0V7s",
    "outputId": "372bb2ea-8145-48c1-f773-9c36a9e3260e"
   },
   "outputs": [
    {
     "name": "stdout",
     "output_type": "stream",
     "text": [
      "[[0.9787651  0.02123494]\n",
      " [0.9709744  0.02902564]\n",
      " [0.9695255  0.0304745 ]\n",
      " ...\n",
      " [0.712792   0.28720802]\n",
      " [0.9757728  0.0242272 ]\n",
      " [0.64008313 0.35991687]]\n",
      "[[0.83910507 0.16089492]\n",
      " [0.9550096  0.04499044]\n",
      " [0.95053464 0.04946533]\n",
      " ...\n",
      " [0.9730354  0.02696458]\n",
      " [0.9638043  0.03619572]\n",
      " [0.8383645  0.16163549]]\n"
     ]
    }
   ],
   "source": [
    "y_pred_train2 = grid_search_res.predict_proba(X_train)\n",
    "y_pred_test2 = grid_search_res.predict_proba(X_test)\n",
    "print(y_pred_train2)\n",
    "print(y_pred_test2)"
   ]
  },
  {
   "cell_type": "code",
   "execution_count": 70,
   "metadata": {
    "colab": {
     "base_uri": "https://localhost:8080/"
    },
    "id": "wXcS6EqS0V7s",
    "outputId": "6a6604f8-0c96-496e-8137-987a5badc60a"
   },
   "outputs": [
    {
     "name": "stdout",
     "output_type": "stream",
     "text": [
      "              precision    recall  f1-score   support\n",
      "\n",
      "           0       0.95      0.89      0.92      8225\n",
      "           1       0.60      0.79      0.68      1675\n",
      "\n",
      "    accuracy                           0.87      9900\n",
      "   macro avg       0.77      0.84      0.80      9900\n",
      "weighted avg       0.89      0.87      0.88      9900\n",
      "\n"
     ]
    }
   ],
   "source": [
    "y_pred_train2 = grid_search_res.predict(X_train)\n",
    "y_pred_test2 = grid_search_res.predict(X_test)\n",
    "print(metrics.classification_report(y_pred_test2, y_test))"
   ]
  },
  {
   "cell_type": "code",
   "execution_count": 71,
   "metadata": {
    "colab": {
     "base_uri": "https://localhost:8080/"
    },
    "id": "1tKwh4Jg0V7s",
    "outputId": "8c92e906-0e5f-4db9-c58b-8afa4a1ab0ff"
   },
   "outputs": [
    {
     "name": "stdout",
     "output_type": "stream",
     "text": [
      "Accuracy on train set is  90.43781094527364\n",
      "Accuracy on test set is  87.34343434343434\n"
     ]
    }
   ],
   "source": [
    "from sklearn.metrics import accuracy_score\n",
    "print(\"Accuracy on train set is \", accuracy_score(y_train, y_pred_train)*100)\n",
    "print(\"Accuracy on test set is \", accuracy_score(y_test, y_pred_test)*100)"
   ]
  },
  {
   "cell_type": "code",
   "execution_count": 72,
   "metadata": {
    "colab": {
     "base_uri": "https://localhost:8080/",
     "height": 343
    },
    "id": "GV4eskR20V7t",
    "outputId": "d98fe61f-d8c8-4bbf-d9d7-c952976d74e7"
   },
   "outputs": [
    {
     "data": {
      "text/html": [
       "<div>\n",
       "<style scoped>\n",
       "    .dataframe tbody tr th:only-of-type {\n",
       "        vertical-align: middle;\n",
       "    }\n",
       "\n",
       "    .dataframe tbody tr th {\n",
       "        vertical-align: top;\n",
       "    }\n",
       "\n",
       "    .dataframe thead th {\n",
       "        text-align: right;\n",
       "    }\n",
       "</style>\n",
       "<table border=\"1\" class=\"dataframe\">\n",
       "  <thead>\n",
       "    <tr style=\"text-align: right;\">\n",
       "      <th></th>\n",
       "      <th>features</th>\n",
       "      <th>importance</th>\n",
       "    </tr>\n",
       "  </thead>\n",
       "  <tbody>\n",
       "    <tr>\n",
       "      <th>6</th>\n",
       "      <td>PAY_0</td>\n",
       "      <td>0.126184</td>\n",
       "    </tr>\n",
       "    <tr>\n",
       "      <th>25</th>\n",
       "      <td>F2</td>\n",
       "      <td>0.098917</td>\n",
       "    </tr>\n",
       "    <tr>\n",
       "      <th>15</th>\n",
       "      <td>BILL_AMT4</td>\n",
       "      <td>0.060751</td>\n",
       "    </tr>\n",
       "    <tr>\n",
       "      <th>16</th>\n",
       "      <td>BILL_AMT5</td>\n",
       "      <td>0.059135</td>\n",
       "    </tr>\n",
       "    <tr>\n",
       "      <th>12</th>\n",
       "      <td>BILL_AMT1</td>\n",
       "      <td>0.047243</td>\n",
       "    </tr>\n",
       "    <tr>\n",
       "      <th>11</th>\n",
       "      <td>PAY_6</td>\n",
       "      <td>0.040605</td>\n",
       "    </tr>\n",
       "    <tr>\n",
       "      <th>1</th>\n",
       "      <td>LIMIT_BAL</td>\n",
       "      <td>0.040428</td>\n",
       "    </tr>\n",
       "    <tr>\n",
       "      <th>24</th>\n",
       "      <td>F1</td>\n",
       "      <td>0.039294</td>\n",
       "    </tr>\n",
       "    <tr>\n",
       "      <th>18</th>\n",
       "      <td>PAY_AMT1</td>\n",
       "      <td>0.037288</td>\n",
       "    </tr>\n",
       "    <tr>\n",
       "      <th>14</th>\n",
       "      <td>BILL_AMT3</td>\n",
       "      <td>0.034327</td>\n",
       "    </tr>\n",
       "  </tbody>\n",
       "</table>\n",
       "</div>"
      ],
      "text/plain": [
       "     features  importance\n",
       "6       PAY_0    0.126184\n",
       "25         F2    0.098917\n",
       "15  BILL_AMT4    0.060751\n",
       "16  BILL_AMT5    0.059135\n",
       "12  BILL_AMT1    0.047243\n",
       "11      PAY_6    0.040605\n",
       "1   LIMIT_BAL    0.040428\n",
       "24         F1    0.039294\n",
       "18   PAY_AMT1    0.037288\n",
       "14  BILL_AMT3    0.034327"
      ]
     },
     "execution_count": 72,
     "metadata": {
      "tags": []
     },
     "output_type": "execute_result"
    }
   ],
   "source": [
    "fi = pd.DataFrame({'features': X_train.columns, 'importance': grid_search_res.best_estimator_.feature_importances_})\n",
    "fi.sort_values('importance', ascending=False).head(10)"
   ]
  },
  {
   "cell_type": "markdown",
   "metadata": {
    "id": "mQwQa6OR0V7t"
   },
   "source": [
    "## Факторный анализ"
   ]
  },
  {
   "cell_type": "code",
   "execution_count": 30,
   "metadata": {
    "colab": {
     "base_uri": "https://localhost:8080/"
    },
    "id": "18Wfz8Yv0V7t",
    "outputId": "bd7edf6b-5e22-4cb7-e0c3-6dabc57e6411"
   },
   "outputs": [
    {
     "name": "stdout",
     "output_type": "stream",
     "text": [
      "Collecting factor_analyzer\n",
      "\u001b[?25l  Downloading https://files.pythonhosted.org/packages/44/b5/cbd83484ca6dd4c6562c6d66a6a3a0ecf526e79b2b575b9fb4bf5ad172dd/factor_analyzer-0.3.2.tar.gz (40kB)\n",
      "\r",
      "\u001b[K     |████████▏                       | 10kB 14.8MB/s eta 0:00:01\r",
      "\u001b[K     |████████████████▍               | 20kB 21.2MB/s eta 0:00:01\r",
      "\u001b[K     |████████████████████████▌       | 30kB 18.6MB/s eta 0:00:01\r",
      "\u001b[K     |████████████████████████████████| 40kB 4.0MB/s \n",
      "\u001b[?25hRequirement already satisfied: pandas in /usr/local/lib/python3.7/dist-packages (from factor_analyzer) (1.1.5)\n",
      "Requirement already satisfied: scipy in /usr/local/lib/python3.7/dist-packages (from factor_analyzer) (1.4.1)\n",
      "Requirement already satisfied: numpy in /usr/local/lib/python3.7/dist-packages (from factor_analyzer) (1.19.5)\n",
      "Requirement already satisfied: scikit-learn in /usr/local/lib/python3.7/dist-packages (from factor_analyzer) (0.22.2.post1)\n",
      "Requirement already satisfied: pytz>=2017.2 in /usr/local/lib/python3.7/dist-packages (from pandas->factor_analyzer) (2018.9)\n",
      "Requirement already satisfied: python-dateutil>=2.7.3 in /usr/local/lib/python3.7/dist-packages (from pandas->factor_analyzer) (2.8.1)\n",
      "Requirement already satisfied: joblib>=0.11 in /usr/local/lib/python3.7/dist-packages (from scikit-learn->factor_analyzer) (1.0.1)\n",
      "Requirement already satisfied: six>=1.5 in /usr/local/lib/python3.7/dist-packages (from python-dateutil>=2.7.3->pandas->factor_analyzer) (1.15.0)\n",
      "Building wheels for collected packages: factor-analyzer\n",
      "  Building wheel for factor-analyzer (setup.py) ... \u001b[?25l\u001b[?25hdone\n",
      "  Created wheel for factor-analyzer: filename=factor_analyzer-0.3.2-cp37-none-any.whl size=40383 sha256=bf192f414779cbd6401fbd256edbd1c3d3129d32f436b6beacb0235732fb47c1\n",
      "  Stored in directory: /root/.cache/pip/wheels/4a/d0/57/f1330cb9c80e82d8d05391c74c94ed61ce3f03bf6157f3d6db\n",
      "Successfully built factor-analyzer\n",
      "Installing collected packages: factor-analyzer\n",
      "Successfully installed factor-analyzer-0.3.2\n"
     ]
    }
   ],
   "source": [
    "pip install factor_analyzer"
   ]
  },
  {
   "cell_type": "code",
   "execution_count": 32,
   "metadata": {
    "id": "SwNP-STF0V7u"
   },
   "outputs": [],
   "source": [
    "from factor_analyzer import FactorAnalyzer"
   ]
  },
  {
   "cell_type": "code",
   "execution_count": 33,
   "metadata": {
    "id": "pSvVHyph0V7u"
   },
   "outputs": [],
   "source": [
    "fa = FactorAnalyzer(n_factors=2, rotation='varimax', method='minres', \n",
    "                    impute='mean', is_corr_matrix=False)"
   ]
  },
  {
   "cell_type": "code",
   "execution_count": 34,
   "metadata": {
    "colab": {
     "base_uri": "https://localhost:8080/"
    },
    "id": "YUQwCDGR0V7u",
    "outputId": "4445c5c0-90d8-4721-8bff-a114d4368934"
   },
   "outputs": [
    {
     "data": {
      "text/plain": [
       "array([[-1.73199307, -1.13672015,  0.81016074,  0.18582826, -1.05729503,\n",
       "        -1.24601985,  1.79456386,  1.78234817, -0.69666346, -0.66659873,\n",
       "        -1.53004603, -1.48604076, -0.64250107, -0.64739923, -0.66799331,\n",
       "        -0.67249727, -0.66305853, -0.65272422, -0.34194162, -0.22708564,\n",
       "        -0.29680127, -0.30806256, -0.31413612, -0.29338206,  1.87637834],\n",
       "       [-1.7318776 , -0.3659805 ,  0.81016074,  0.18582826,  0.85855728,\n",
       "        -1.02904717, -0.87499115,  1.78234817,  0.1388648 ,  0.18874609,\n",
       "         0.23491652,  1.99231551, -0.65921875, -0.66674657, -0.63925429,\n",
       "        -0.62163594, -0.60622927, -0.59796638, -0.34194162, -0.21358766,\n",
       "        -0.24000461, -0.24422965, -0.31413612, -0.18087821,  1.87637834],\n",
       "       [-1.73176213, -0.59720239,  0.81016074,  0.18582826,  0.85855728,\n",
       "        -0.16115646,  0.01486052,  0.1117361 ,  0.1388648 ,  0.18874609,\n",
       "         0.23491652,  0.25313738, -0.29855966, -0.49389911, -0.48240819,\n",
       "        -0.44973025, -0.41718767, -0.39162956, -0.25029158, -0.19188673,\n",
       "        -0.24000461, -0.24422965, -0.24868274, -0.01212243, -0.53294156],\n",
       "       [-1.73164666, -0.90549825,  0.81016074,  0.18582826, -1.05729503,\n",
       "         0.16430256,  0.01486052,  0.1117361 ,  0.1388648 ,  0.18874609,\n",
       "         0.23491652,  0.25313738, -0.05749103, -0.01329269,  0.03284648,\n",
       "        -0.23237268, -0.18672897, -0.15657889, -0.22119058, -0.16936116,\n",
       "        -0.22864528, -0.23784635, -0.24416646, -0.23713013, -0.53294156],\n",
       "       [-1.73153119, -0.90549825, -1.23432296,  0.18582826, -1.05729503,\n",
       "         2.33402934, -0.87499115,  0.1117361 , -0.69666346,  0.18874609,\n",
       "         0.23491652,  0.25313738, -0.57861809, -0.61131792, -0.16118875,\n",
       "        -0.3469972 , -0.34813724, -0.33148158, -0.22119058,  1.33503416,\n",
       "         0.27116536,  0.26643369, -0.26903874, -0.255187  , -0.53294156]])"
      ]
     },
     "execution_count": 34,
     "metadata": {
      "tags": []
     },
     "output_type": "execute_result"
    }
   ],
   "source": [
    "df_scaled = preprocessing.StandardScaler().fit_transform(df)\n",
    "df_scaled[0:5, :]"
   ]
  },
  {
   "cell_type": "code",
   "execution_count": 35,
   "metadata": {
    "colab": {
     "base_uri": "https://localhost:8080/"
    },
    "id": "LtBWm2fa0V7u",
    "outputId": "be480159-dadb-4304-c6de-b3d8951c98fd"
   },
   "outputs": [
    {
     "data": {
      "text/plain": [
       "FactorAnalyzer(bounds=(0.005, 1), impute='mean', is_corr_matrix=False,\n",
       "               method='minres', n_factors=2, rotation='varimax',\n",
       "               rotation_kwargs={}, use_smc=True)"
      ]
     },
     "execution_count": 35,
     "metadata": {
      "tags": []
     },
     "output_type": "execute_result"
    }
   ],
   "source": [
    "fa.fit(df_scaled)"
   ]
  },
  {
   "cell_type": "code",
   "execution_count": 36,
   "metadata": {
    "colab": {
     "base_uri": "https://localhost:8080/"
    },
    "id": "fM7NaBEs0V7v",
    "outputId": "4c2f977e-3fc9-4360-f277-71871df49581"
   },
   "outputs": [
    {
     "data": {
      "text/plain": [
       "(30000, 25)"
      ]
     },
     "execution_count": 36,
     "metadata": {
      "tags": []
     },
     "output_type": "execute_result"
    }
   ],
   "source": [
    "df_scaled.shape"
   ]
  },
  {
   "cell_type": "code",
   "execution_count": 37,
   "metadata": {
    "colab": {
     "base_uri": "https://localhost:8080/"
    },
    "id": "jCgLlSYC0V7v",
    "outputId": "990258a7-48bf-49f9-fd94-380ff08cf72a"
   },
   "outputs": [
    {
     "data": {
      "text/plain": [
       "array([[ 0.03284699, -0.02233943],\n",
       "       [ 0.45215149, -0.3656146 ],\n",
       "       [-0.00859931, -0.07060213],\n",
       "       [-0.04883505,  0.14375131],\n",
       "       [-0.04760202,  0.04567588],\n",
       "       [ 0.08533494, -0.06631999],\n",
       "       [-0.00938722,  0.68421187],\n",
       "       [ 0.01000459,  0.816484  ],\n",
       "       [ 0.00902047,  0.8500368 ],\n",
       "       [ 0.02093438,  0.86560556],\n",
       "       [ 0.0448641 ,  0.84278152],\n",
       "       [ 0.06799639,  0.77606166],\n",
       "       [ 0.85651969,  0.2504168 ],\n",
       "       [ 0.88972522,  0.26852408],\n",
       "       [ 0.9082901 ,  0.266671  ],\n",
       "       [ 0.91972543,  0.27498098],\n",
       "       [ 0.90908363,  0.27532564],\n",
       "       [ 0.88302147,  0.26760984],\n",
       "       [ 0.30778013, -0.07532774],\n",
       "       [ 0.26838788, -0.08117745],\n",
       "       [ 0.29516629, -0.08786229],\n",
       "       [ 0.26958423, -0.08552724],\n",
       "       [ 0.26172071, -0.08327014],\n",
       "       [ 0.24325125, -0.0789279 ],\n",
       "       [-0.10304959,  0.29441934]])"
      ]
     },
     "execution_count": 37,
     "metadata": {
      "tags": []
     },
     "output_type": "execute_result"
    }
   ],
   "source": [
    "fa.loadings_"
   ]
  },
  {
   "cell_type": "code",
   "execution_count": 38,
   "metadata": {
    "colab": {
     "base_uri": "https://localhost:8080/"
    },
    "id": "BRwBX8a50V7v",
    "outputId": "259339ec-8a84-4a48-efee-d8e7eff768f9"
   },
   "outputs": [
    {
     "data": {
      "text/plain": [
       "array([0.00157797, 0.338115  , 0.00505861, 0.0230493 , 0.00435224,\n",
       "       0.01168039, 0.46823401, 0.66674622, 0.72264393, 0.74971124,\n",
       "       0.71229348, 0.60689521, 0.79633456, 0.86371615, 0.89610433,\n",
       "       0.92150941, 0.90223725, 0.85134194, 0.10040288, 0.07862183,\n",
       "       0.09484292, 0.07999056, 0.07543165, 0.06540079, 0.09730196])"
      ]
     },
     "execution_count": 38,
     "metadata": {
      "tags": []
     },
     "output_type": "execute_result"
    }
   ],
   "source": [
    " fa.get_communalities()"
   ]
  },
  {
   "cell_type": "code",
   "execution_count": 39,
   "metadata": {
    "colab": {
     "base_uri": "https://localhost:8080/"
    },
    "id": "qPBnTncM0V7w",
    "outputId": "79f9c5c7-d180-4fb5-da0b-0538c92c4af4"
   },
   "outputs": [
    {
     "data": {
      "text/plain": [
       "array([0.99842203, 0.661885  , 0.99494139, 0.9769507 , 0.99564776,\n",
       "       0.98831961, 0.53176599, 0.33325378, 0.27735607, 0.25028876,\n",
       "       0.28770652, 0.39310479, 0.20366544, 0.13628385, 0.10389567,\n",
       "       0.07849059, 0.09776275, 0.14865806, 0.89959712, 0.92137817,\n",
       "       0.90515708, 0.92000944, 0.92456835, 0.93459921, 0.90269804])"
      ]
     },
     "execution_count": 39,
     "metadata": {
      "tags": []
     },
     "output_type": "execute_result"
    }
   ],
   "source": [
    "fa.get_uniquenesses()"
   ]
  },
  {
   "cell_type": "code",
   "execution_count": 40,
   "metadata": {
    "colab": {
     "base_uri": "https://localhost:8080/"
    },
    "id": "sGxKxq_T0V7w",
    "outputId": "50745dde-8cc0-4301-a8cc-ed4531bce460"
   },
   "outputs": [
    {
     "data": {
      "text/plain": [
       "array([1., 1., 1., 1., 1., 1., 1., 1., 1., 1., 1., 1., 1., 1., 1., 1., 1.,\n",
       "       1., 1., 1., 1., 1., 1., 1., 1.])"
      ]
     },
     "execution_count": 40,
     "metadata": {
      "tags": []
     },
     "output_type": "execute_result"
    }
   ],
   "source": [
    "fa.get_communalities() + fa.get_uniquenesses()"
   ]
  },
  {
   "cell_type": "code",
   "execution_count": 41,
   "metadata": {
    "colab": {
     "base_uri": "https://localhost:8080/",
     "height": 206
    },
    "id": "ltJzyp-h0V7w",
    "outputId": "f0952cb7-50f0-409a-cfb0-7a86d5af52d3"
   },
   "outputs": [
    {
     "data": {
      "text/html": [
       "<div>\n",
       "<style scoped>\n",
       "    .dataframe tbody tr th:only-of-type {\n",
       "        vertical-align: middle;\n",
       "    }\n",
       "\n",
       "    .dataframe tbody tr th {\n",
       "        vertical-align: top;\n",
       "    }\n",
       "\n",
       "    .dataframe thead th {\n",
       "        text-align: right;\n",
       "    }\n",
       "</style>\n",
       "<table border=\"1\" class=\"dataframe\">\n",
       "  <thead>\n",
       "    <tr style=\"text-align: right;\">\n",
       "      <th></th>\n",
       "      <th>ID</th>\n",
       "      <th>LIMIT_BAL</th>\n",
       "      <th>SEX</th>\n",
       "      <th>EDUCATION</th>\n",
       "      <th>MARRIAGE</th>\n",
       "      <th>AGE</th>\n",
       "      <th>PAY_0</th>\n",
       "      <th>PAY_2</th>\n",
       "      <th>PAY_3</th>\n",
       "      <th>PAY_4</th>\n",
       "      <th>PAY_5</th>\n",
       "      <th>PAY_6</th>\n",
       "      <th>BILL_AMT1</th>\n",
       "      <th>BILL_AMT2</th>\n",
       "      <th>BILL_AMT3</th>\n",
       "      <th>BILL_AMT4</th>\n",
       "      <th>BILL_AMT5</th>\n",
       "      <th>BILL_AMT6</th>\n",
       "      <th>PAY_AMT1</th>\n",
       "      <th>PAY_AMT2</th>\n",
       "      <th>PAY_AMT3</th>\n",
       "      <th>PAY_AMT4</th>\n",
       "      <th>PAY_AMT5</th>\n",
       "      <th>PAY_AMT6</th>\n",
       "      <th>default payment next month</th>\n",
       "    </tr>\n",
       "  </thead>\n",
       "  <tbody>\n",
       "    <tr>\n",
       "      <th>Factor 1</th>\n",
       "      <td>0.033</td>\n",
       "      <td>0.452</td>\n",
       "      <td>-0.009</td>\n",
       "      <td>-0.049</td>\n",
       "      <td>-0.048</td>\n",
       "      <td>0.085</td>\n",
       "      <td>-0.009</td>\n",
       "      <td>0.010</td>\n",
       "      <td>0.009</td>\n",
       "      <td>0.021</td>\n",
       "      <td>0.045</td>\n",
       "      <td>0.068</td>\n",
       "      <td>0.857</td>\n",
       "      <td>0.890</td>\n",
       "      <td>0.908</td>\n",
       "      <td>0.920</td>\n",
       "      <td>0.909</td>\n",
       "      <td>0.883</td>\n",
       "      <td>0.308</td>\n",
       "      <td>0.268</td>\n",
       "      <td>0.295</td>\n",
       "      <td>0.270</td>\n",
       "      <td>0.262</td>\n",
       "      <td>0.243</td>\n",
       "      <td>-0.103</td>\n",
       "    </tr>\n",
       "    <tr>\n",
       "      <th>Factor 2</th>\n",
       "      <td>-0.022</td>\n",
       "      <td>-0.366</td>\n",
       "      <td>-0.071</td>\n",
       "      <td>0.144</td>\n",
       "      <td>0.046</td>\n",
       "      <td>-0.066</td>\n",
       "      <td>0.684</td>\n",
       "      <td>0.816</td>\n",
       "      <td>0.850</td>\n",
       "      <td>0.866</td>\n",
       "      <td>0.843</td>\n",
       "      <td>0.776</td>\n",
       "      <td>0.250</td>\n",
       "      <td>0.269</td>\n",
       "      <td>0.267</td>\n",
       "      <td>0.275</td>\n",
       "      <td>0.275</td>\n",
       "      <td>0.268</td>\n",
       "      <td>-0.075</td>\n",
       "      <td>-0.081</td>\n",
       "      <td>-0.088</td>\n",
       "      <td>-0.086</td>\n",
       "      <td>-0.083</td>\n",
       "      <td>-0.079</td>\n",
       "      <td>0.294</td>\n",
       "    </tr>\n",
       "    <tr>\n",
       "      <th>Уникальность</th>\n",
       "      <td>0.998</td>\n",
       "      <td>0.662</td>\n",
       "      <td>0.995</td>\n",
       "      <td>0.977</td>\n",
       "      <td>0.996</td>\n",
       "      <td>0.988</td>\n",
       "      <td>0.532</td>\n",
       "      <td>0.333</td>\n",
       "      <td>0.277</td>\n",
       "      <td>0.250</td>\n",
       "      <td>0.288</td>\n",
       "      <td>0.393</td>\n",
       "      <td>0.204</td>\n",
       "      <td>0.136</td>\n",
       "      <td>0.104</td>\n",
       "      <td>0.078</td>\n",
       "      <td>0.098</td>\n",
       "      <td>0.149</td>\n",
       "      <td>0.900</td>\n",
       "      <td>0.921</td>\n",
       "      <td>0.905</td>\n",
       "      <td>0.920</td>\n",
       "      <td>0.925</td>\n",
       "      <td>0.935</td>\n",
       "      <td>0.903</td>\n",
       "    </tr>\n",
       "  </tbody>\n",
       "</table>\n",
       "</div>"
      ],
      "text/plain": [
       "                 ID  LIMIT_BAL  ...  PAY_AMT6  default payment next month\n",
       "Factor 1      0.033      0.452  ...     0.243                      -0.103\n",
       "Factor 2     -0.022     -0.366  ...    -0.079                       0.294\n",
       "Уникальность  0.998      0.662  ...     0.935                       0.903\n",
       "\n",
       "[3 rows x 25 columns]"
      ]
     },
     "execution_count": 41,
     "metadata": {
      "tags": []
     },
     "output_type": "execute_result"
    }
   ],
   "source": [
    "faLoadingsV = pd.DataFrame(np.vstack((fa.loadings_.T, fa.get_uniquenesses())),\n",
    "                          index = ['Factor 1', 'Factor 2', 'Уникальность'], \n",
    "                           columns = list(df.columns.values))\n",
    "faLoadingsV.round(3)"
   ]
  },
  {
   "cell_type": "code",
   "execution_count": 42,
   "metadata": {
    "colab": {
     "base_uri": "https://localhost:8080/"
    },
    "id": "D-tL21Bt0V7x",
    "outputId": "eb1f086d-b3f1-41e2-9991-f034c48a0537"
   },
   "outputs": [
    {
     "data": {
      "text/plain": [
       "array([[-0.78547592, -0.11176382],\n",
       "       [-0.85445582,  0.68233867],\n",
       "       [-0.56480799,  0.19740024],\n",
       "       ...,\n",
       "       [-0.87066115,  1.26891643],\n",
       "       [ 0.27144745, -0.06899771],\n",
       "       [-0.21547451,  0.30899787]])"
      ]
     },
     "execution_count": 42,
     "metadata": {
      "tags": []
     },
     "output_type": "execute_result"
    }
   ],
   "source": [
    "zzz = fa.transform(df_scaled)\n",
    "zzz"
   ]
  },
  {
   "cell_type": "code",
   "execution_count": 43,
   "metadata": {
    "colab": {
     "base_uri": "https://localhost:8080/",
     "height": 195
    },
    "id": "ZENNsSW40V7x",
    "outputId": "ba037529-a5d5-41dc-824b-3864a8819164"
   },
   "outputs": [
    {
     "data": {
      "text/html": [
       "<div>\n",
       "<style scoped>\n",
       "    .dataframe tbody tr th:only-of-type {\n",
       "        vertical-align: middle;\n",
       "    }\n",
       "\n",
       "    .dataframe tbody tr th {\n",
       "        vertical-align: top;\n",
       "    }\n",
       "\n",
       "    .dataframe thead th {\n",
       "        text-align: right;\n",
       "    }\n",
       "</style>\n",
       "<table border=\"1\" class=\"dataframe\">\n",
       "  <thead>\n",
       "    <tr style=\"text-align: right;\">\n",
       "      <th></th>\n",
       "      <th>F1</th>\n",
       "      <th>F2</th>\n",
       "    </tr>\n",
       "  </thead>\n",
       "  <tbody>\n",
       "    <tr>\n",
       "      <th>0</th>\n",
       "      <td>-0.785476</td>\n",
       "      <td>-0.111764</td>\n",
       "    </tr>\n",
       "    <tr>\n",
       "      <th>1</th>\n",
       "      <td>-0.854456</td>\n",
       "      <td>0.682339</td>\n",
       "    </tr>\n",
       "    <tr>\n",
       "      <th>2</th>\n",
       "      <td>-0.564808</td>\n",
       "      <td>0.197400</td>\n",
       "    </tr>\n",
       "    <tr>\n",
       "      <th>3</th>\n",
       "      <td>-0.226062</td>\n",
       "      <td>0.235627</td>\n",
       "    </tr>\n",
       "    <tr>\n",
       "      <th>4</th>\n",
       "      <td>-0.320197</td>\n",
       "      <td>-0.107256</td>\n",
       "    </tr>\n",
       "  </tbody>\n",
       "</table>\n",
       "</div>"
      ],
      "text/plain": [
       "         F1        F2\n",
       "0 -0.785476 -0.111764\n",
       "1 -0.854456  0.682339\n",
       "2 -0.564808  0.197400\n",
       "3 -0.226062  0.235627\n",
       "4 -0.320197 -0.107256"
      ]
     },
     "execution_count": 43,
     "metadata": {
      "tags": []
     },
     "output_type": "execute_result"
    }
   ],
   "source": [
    "factors_2 = pd.DataFrame(fa.transform(df_scaled), columns = ['F1', 'F2'])\n",
    "factors_2.head(5)"
   ]
  },
  {
   "cell_type": "code",
   "execution_count": 44,
   "metadata": {
    "colab": {
     "base_uri": "https://localhost:8080/",
     "height": 266
    },
    "id": "ZPnMtre10V7x",
    "outputId": "f32cd2e1-2fbd-4223-ce7e-631982920542"
   },
   "outputs": [
    {
     "data": {
      "text/html": [
       "<div>\n",
       "<style scoped>\n",
       "    .dataframe tbody tr th:only-of-type {\n",
       "        vertical-align: middle;\n",
       "    }\n",
       "\n",
       "    .dataframe tbody tr th {\n",
       "        vertical-align: top;\n",
       "    }\n",
       "\n",
       "    .dataframe thead th {\n",
       "        text-align: right;\n",
       "    }\n",
       "</style>\n",
       "<table border=\"1\" class=\"dataframe\">\n",
       "  <thead>\n",
       "    <tr style=\"text-align: right;\">\n",
       "      <th></th>\n",
       "      <th>ID</th>\n",
       "      <th>LIMIT_BAL</th>\n",
       "      <th>SEX</th>\n",
       "      <th>EDUCATION</th>\n",
       "      <th>MARRIAGE</th>\n",
       "      <th>AGE</th>\n",
       "      <th>PAY_0</th>\n",
       "      <th>PAY_2</th>\n",
       "      <th>PAY_3</th>\n",
       "      <th>PAY_4</th>\n",
       "      <th>PAY_5</th>\n",
       "      <th>PAY_6</th>\n",
       "      <th>BILL_AMT1</th>\n",
       "      <th>BILL_AMT2</th>\n",
       "      <th>BILL_AMT3</th>\n",
       "      <th>BILL_AMT4</th>\n",
       "      <th>BILL_AMT5</th>\n",
       "      <th>BILL_AMT6</th>\n",
       "      <th>PAY_AMT1</th>\n",
       "      <th>PAY_AMT2</th>\n",
       "      <th>PAY_AMT3</th>\n",
       "      <th>PAY_AMT4</th>\n",
       "      <th>PAY_AMT5</th>\n",
       "      <th>PAY_AMT6</th>\n",
       "      <th>default payment next month</th>\n",
       "      <th>F1</th>\n",
       "      <th>F2</th>\n",
       "    </tr>\n",
       "  </thead>\n",
       "  <tbody>\n",
       "    <tr>\n",
       "      <th>0</th>\n",
       "      <td>1</td>\n",
       "      <td>20000</td>\n",
       "      <td>2</td>\n",
       "      <td>2</td>\n",
       "      <td>1</td>\n",
       "      <td>24</td>\n",
       "      <td>2</td>\n",
       "      <td>2</td>\n",
       "      <td>-1</td>\n",
       "      <td>-1</td>\n",
       "      <td>-2</td>\n",
       "      <td>-2</td>\n",
       "      <td>3913</td>\n",
       "      <td>3102</td>\n",
       "      <td>689</td>\n",
       "      <td>0</td>\n",
       "      <td>0</td>\n",
       "      <td>0</td>\n",
       "      <td>0</td>\n",
       "      <td>689</td>\n",
       "      <td>0</td>\n",
       "      <td>0</td>\n",
       "      <td>0</td>\n",
       "      <td>0</td>\n",
       "      <td>1</td>\n",
       "      <td>-0.785476</td>\n",
       "      <td>-0.111764</td>\n",
       "    </tr>\n",
       "    <tr>\n",
       "      <th>1</th>\n",
       "      <td>2</td>\n",
       "      <td>120000</td>\n",
       "      <td>2</td>\n",
       "      <td>2</td>\n",
       "      <td>2</td>\n",
       "      <td>26</td>\n",
       "      <td>-1</td>\n",
       "      <td>2</td>\n",
       "      <td>0</td>\n",
       "      <td>0</td>\n",
       "      <td>0</td>\n",
       "      <td>2</td>\n",
       "      <td>2682</td>\n",
       "      <td>1725</td>\n",
       "      <td>2682</td>\n",
       "      <td>3272</td>\n",
       "      <td>3455</td>\n",
       "      <td>3261</td>\n",
       "      <td>0</td>\n",
       "      <td>1000</td>\n",
       "      <td>1000</td>\n",
       "      <td>1000</td>\n",
       "      <td>0</td>\n",
       "      <td>2000</td>\n",
       "      <td>1</td>\n",
       "      <td>-0.854456</td>\n",
       "      <td>0.682339</td>\n",
       "    </tr>\n",
       "    <tr>\n",
       "      <th>2</th>\n",
       "      <td>3</td>\n",
       "      <td>90000</td>\n",
       "      <td>2</td>\n",
       "      <td>2</td>\n",
       "      <td>2</td>\n",
       "      <td>34</td>\n",
       "      <td>0</td>\n",
       "      <td>0</td>\n",
       "      <td>0</td>\n",
       "      <td>0</td>\n",
       "      <td>0</td>\n",
       "      <td>0</td>\n",
       "      <td>29239</td>\n",
       "      <td>14027</td>\n",
       "      <td>13559</td>\n",
       "      <td>14331</td>\n",
       "      <td>14948</td>\n",
       "      <td>15549</td>\n",
       "      <td>1518</td>\n",
       "      <td>1500</td>\n",
       "      <td>1000</td>\n",
       "      <td>1000</td>\n",
       "      <td>1000</td>\n",
       "      <td>5000</td>\n",
       "      <td>0</td>\n",
       "      <td>-0.564808</td>\n",
       "      <td>0.197400</td>\n",
       "    </tr>\n",
       "    <tr>\n",
       "      <th>3</th>\n",
       "      <td>4</td>\n",
       "      <td>50000</td>\n",
       "      <td>2</td>\n",
       "      <td>2</td>\n",
       "      <td>1</td>\n",
       "      <td>37</td>\n",
       "      <td>0</td>\n",
       "      <td>0</td>\n",
       "      <td>0</td>\n",
       "      <td>0</td>\n",
       "      <td>0</td>\n",
       "      <td>0</td>\n",
       "      <td>46990</td>\n",
       "      <td>48233</td>\n",
       "      <td>49291</td>\n",
       "      <td>28314</td>\n",
       "      <td>28959</td>\n",
       "      <td>29547</td>\n",
       "      <td>2000</td>\n",
       "      <td>2019</td>\n",
       "      <td>1200</td>\n",
       "      <td>1100</td>\n",
       "      <td>1069</td>\n",
       "      <td>1000</td>\n",
       "      <td>0</td>\n",
       "      <td>-0.226062</td>\n",
       "      <td>0.235627</td>\n",
       "    </tr>\n",
       "    <tr>\n",
       "      <th>4</th>\n",
       "      <td>5</td>\n",
       "      <td>50000</td>\n",
       "      <td>1</td>\n",
       "      <td>2</td>\n",
       "      <td>1</td>\n",
       "      <td>57</td>\n",
       "      <td>-1</td>\n",
       "      <td>0</td>\n",
       "      <td>-1</td>\n",
       "      <td>0</td>\n",
       "      <td>0</td>\n",
       "      <td>0</td>\n",
       "      <td>8617</td>\n",
       "      <td>5670</td>\n",
       "      <td>35835</td>\n",
       "      <td>20940</td>\n",
       "      <td>19146</td>\n",
       "      <td>19131</td>\n",
       "      <td>2000</td>\n",
       "      <td>36681</td>\n",
       "      <td>10000</td>\n",
       "      <td>9000</td>\n",
       "      <td>689</td>\n",
       "      <td>679</td>\n",
       "      <td>0</td>\n",
       "      <td>-0.320197</td>\n",
       "      <td>-0.107256</td>\n",
       "    </tr>\n",
       "  </tbody>\n",
       "</table>\n",
       "</div>"
      ],
      "text/plain": [
       "   ID  LIMIT_BAL  SEX  ...  default payment next month        F1        F2\n",
       "0   1      20000    2  ...                           1 -0.785476 -0.111764\n",
       "1   2     120000    2  ...                           1 -0.854456  0.682339\n",
       "2   3      90000    2  ...                           0 -0.564808  0.197400\n",
       "3   4      50000    2  ...                           0 -0.226062  0.235627\n",
       "4   5      50000    1  ...                           0 -0.320197 -0.107256\n",
       "\n",
       "[5 rows x 27 columns]"
      ]
     },
     "execution_count": 44,
     "metadata": {
      "tags": []
     },
     "output_type": "execute_result"
    }
   ],
   "source": [
    "df_full = df.merge(factors_2, left_index=True, right_index=True)\n",
    "\n",
    "df_full.head(5)"
   ]
  },
  {
   "cell_type": "code",
   "execution_count": 45,
   "metadata": {
    "colab": {
     "base_uri": "https://localhost:8080/",
     "height": 758
    },
    "id": "_YrC4jHK0V7x",
    "outputId": "74970370-8060-4e23-9a00-b9bcf8e84a39"
   },
   "outputs": [
    {
     "data": {
      "text/html": [
       "<div>\n",
       "<style scoped>\n",
       "    .dataframe tbody tr th:only-of-type {\n",
       "        vertical-align: middle;\n",
       "    }\n",
       "\n",
       "    .dataframe tbody tr th {\n",
       "        vertical-align: top;\n",
       "    }\n",
       "\n",
       "    .dataframe thead th {\n",
       "        text-align: right;\n",
       "    }\n",
       "</style>\n",
       "<table border=\"1\" class=\"dataframe\">\n",
       "  <thead>\n",
       "    <tr style=\"text-align: right;\">\n",
       "      <th></th>\n",
       "      <th>F1</th>\n",
       "      <th>F2</th>\n",
       "    </tr>\n",
       "  </thead>\n",
       "  <tbody>\n",
       "    <tr>\n",
       "      <th>ID</th>\n",
       "      <td>0.033421</td>\n",
       "      <td>-0.023208</td>\n",
       "    </tr>\n",
       "    <tr>\n",
       "      <th>LIMIT_BAL</th>\n",
       "      <td>0.460058</td>\n",
       "      <td>-0.379824</td>\n",
       "    </tr>\n",
       "    <tr>\n",
       "      <th>SEX</th>\n",
       "      <td>-0.008750</td>\n",
       "      <td>-0.073346</td>\n",
       "    </tr>\n",
       "    <tr>\n",
       "      <th>EDUCATION</th>\n",
       "      <td>-0.049689</td>\n",
       "      <td>0.149338</td>\n",
       "    </tr>\n",
       "    <tr>\n",
       "      <th>MARRIAGE</th>\n",
       "      <td>-0.048434</td>\n",
       "      <td>0.047451</td>\n",
       "    </tr>\n",
       "    <tr>\n",
       "      <th>AGE</th>\n",
       "      <td>0.086827</td>\n",
       "      <td>-0.068897</td>\n",
       "    </tr>\n",
       "    <tr>\n",
       "      <th>PAY_0</th>\n",
       "      <td>-0.009551</td>\n",
       "      <td>0.710803</td>\n",
       "    </tr>\n",
       "    <tr>\n",
       "      <th>PAY_2</th>\n",
       "      <td>0.010180</td>\n",
       "      <td>0.848216</td>\n",
       "    </tr>\n",
       "    <tr>\n",
       "      <th>PAY_3</th>\n",
       "      <td>0.009178</td>\n",
       "      <td>0.883073</td>\n",
       "    </tr>\n",
       "    <tr>\n",
       "      <th>PAY_4</th>\n",
       "      <td>0.021300</td>\n",
       "      <td>0.899247</td>\n",
       "    </tr>\n",
       "    <tr>\n",
       "      <th>PAY_5</th>\n",
       "      <td>0.045649</td>\n",
       "      <td>0.875536</td>\n",
       "    </tr>\n",
       "    <tr>\n",
       "      <th>PAY_6</th>\n",
       "      <td>0.069185</td>\n",
       "      <td>0.806223</td>\n",
       "    </tr>\n",
       "    <tr>\n",
       "      <th>BILL_AMT1</th>\n",
       "      <td>0.871497</td>\n",
       "      <td>0.260149</td>\n",
       "    </tr>\n",
       "    <tr>\n",
       "      <th>BILL_AMT2</th>\n",
       "      <td>0.905283</td>\n",
       "      <td>0.278960</td>\n",
       "    </tr>\n",
       "    <tr>\n",
       "      <th>BILL_AMT3</th>\n",
       "      <td>0.924172</td>\n",
       "      <td>0.277035</td>\n",
       "    </tr>\n",
       "    <tr>\n",
       "      <th>BILL_AMT4</th>\n",
       "      <td>0.935808</td>\n",
       "      <td>0.285668</td>\n",
       "    </tr>\n",
       "    <tr>\n",
       "      <th>BILL_AMT5</th>\n",
       "      <td>0.924980</td>\n",
       "      <td>0.286026</td>\n",
       "    </tr>\n",
       "    <tr>\n",
       "      <th>BILL_AMT6</th>\n",
       "      <td>0.898462</td>\n",
       "      <td>0.278010</td>\n",
       "    </tr>\n",
       "    <tr>\n",
       "      <th>PAY_AMT1</th>\n",
       "      <td>0.313162</td>\n",
       "      <td>-0.078255</td>\n",
       "    </tr>\n",
       "    <tr>\n",
       "      <th>PAY_AMT2</th>\n",
       "      <td>0.273081</td>\n",
       "      <td>-0.084332</td>\n",
       "    </tr>\n",
       "    <tr>\n",
       "      <th>PAY_AMT3</th>\n",
       "      <td>0.300328</td>\n",
       "      <td>-0.091277</td>\n",
       "    </tr>\n",
       "    <tr>\n",
       "      <th>PAY_AMT4</th>\n",
       "      <td>0.274298</td>\n",
       "      <td>-0.088851</td>\n",
       "    </tr>\n",
       "    <tr>\n",
       "      <th>PAY_AMT5</th>\n",
       "      <td>0.266297</td>\n",
       "      <td>-0.086506</td>\n",
       "    </tr>\n",
       "    <tr>\n",
       "      <th>PAY_AMT6</th>\n",
       "      <td>0.247505</td>\n",
       "      <td>-0.081995</td>\n",
       "    </tr>\n",
       "  </tbody>\n",
       "</table>\n",
       "</div>"
      ],
      "text/plain": [
       "                 F1        F2\n",
       "ID         0.033421 -0.023208\n",
       "LIMIT_BAL  0.460058 -0.379824\n",
       "SEX       -0.008750 -0.073346\n",
       "EDUCATION -0.049689  0.149338\n",
       "MARRIAGE  -0.048434  0.047451\n",
       "AGE        0.086827 -0.068897\n",
       "PAY_0     -0.009551  0.710803\n",
       "PAY_2      0.010180  0.848216\n",
       "PAY_3      0.009178  0.883073\n",
       "PAY_4      0.021300  0.899247\n",
       "PAY_5      0.045649  0.875536\n",
       "PAY_6      0.069185  0.806223\n",
       "BILL_AMT1  0.871497  0.260149\n",
       "BILL_AMT2  0.905283  0.278960\n",
       "BILL_AMT3  0.924172  0.277035\n",
       "BILL_AMT4  0.935808  0.285668\n",
       "BILL_AMT5  0.924980  0.286026\n",
       "BILL_AMT6  0.898462  0.278010\n",
       "PAY_AMT1   0.313162 -0.078255\n",
       "PAY_AMT2   0.273081 -0.084332\n",
       "PAY_AMT3   0.300328 -0.091277\n",
       "PAY_AMT4   0.274298 -0.088851\n",
       "PAY_AMT5   0.266297 -0.086506\n",
       "PAY_AMT6   0.247505 -0.081995"
      ]
     },
     "execution_count": 45,
     "metadata": {
      "tags": []
     },
     "output_type": "execute_result"
    }
   ],
   "source": [
    "df_full.corr(\"pearson\").iloc[0:24, [25, 26]]"
   ]
  },
  {
   "cell_type": "code",
   "execution_count": 46,
   "metadata": {
    "colab": {
     "base_uri": "https://localhost:8080/",
     "height": 787
    },
    "id": "AiXCIqPD0V7y",
    "outputId": "12efddaf-ff8b-47ed-a32d-41f672f01dce"
   },
   "outputs": [
    {
     "data": {
      "text/html": [
       "<div>\n",
       "<style scoped>\n",
       "    .dataframe tbody tr th:only-of-type {\n",
       "        vertical-align: middle;\n",
       "    }\n",
       "\n",
       "    .dataframe tbody tr th {\n",
       "        vertical-align: top;\n",
       "    }\n",
       "\n",
       "    .dataframe thead th {\n",
       "        text-align: right;\n",
       "    }\n",
       "</style>\n",
       "<table border=\"1\" class=\"dataframe\">\n",
       "  <thead>\n",
       "    <tr style=\"text-align: right;\">\n",
       "      <th></th>\n",
       "      <th>0</th>\n",
       "      <th>1</th>\n",
       "    </tr>\n",
       "  </thead>\n",
       "  <tbody>\n",
       "    <tr>\n",
       "      <th>0</th>\n",
       "      <td>0.032847</td>\n",
       "      <td>-0.022339</td>\n",
       "    </tr>\n",
       "    <tr>\n",
       "      <th>1</th>\n",
       "      <td>0.452151</td>\n",
       "      <td>-0.365615</td>\n",
       "    </tr>\n",
       "    <tr>\n",
       "      <th>2</th>\n",
       "      <td>-0.008599</td>\n",
       "      <td>-0.070602</td>\n",
       "    </tr>\n",
       "    <tr>\n",
       "      <th>3</th>\n",
       "      <td>-0.048835</td>\n",
       "      <td>0.143751</td>\n",
       "    </tr>\n",
       "    <tr>\n",
       "      <th>4</th>\n",
       "      <td>-0.047602</td>\n",
       "      <td>0.045676</td>\n",
       "    </tr>\n",
       "    <tr>\n",
       "      <th>5</th>\n",
       "      <td>0.085335</td>\n",
       "      <td>-0.066320</td>\n",
       "    </tr>\n",
       "    <tr>\n",
       "      <th>6</th>\n",
       "      <td>-0.009387</td>\n",
       "      <td>0.684212</td>\n",
       "    </tr>\n",
       "    <tr>\n",
       "      <th>7</th>\n",
       "      <td>0.010005</td>\n",
       "      <td>0.816484</td>\n",
       "    </tr>\n",
       "    <tr>\n",
       "      <th>8</th>\n",
       "      <td>0.009020</td>\n",
       "      <td>0.850037</td>\n",
       "    </tr>\n",
       "    <tr>\n",
       "      <th>9</th>\n",
       "      <td>0.020934</td>\n",
       "      <td>0.865606</td>\n",
       "    </tr>\n",
       "    <tr>\n",
       "      <th>10</th>\n",
       "      <td>0.044864</td>\n",
       "      <td>0.842782</td>\n",
       "    </tr>\n",
       "    <tr>\n",
       "      <th>11</th>\n",
       "      <td>0.067996</td>\n",
       "      <td>0.776062</td>\n",
       "    </tr>\n",
       "    <tr>\n",
       "      <th>12</th>\n",
       "      <td>0.856520</td>\n",
       "      <td>0.250417</td>\n",
       "    </tr>\n",
       "    <tr>\n",
       "      <th>13</th>\n",
       "      <td>0.889725</td>\n",
       "      <td>0.268524</td>\n",
       "    </tr>\n",
       "    <tr>\n",
       "      <th>14</th>\n",
       "      <td>0.908290</td>\n",
       "      <td>0.266671</td>\n",
       "    </tr>\n",
       "    <tr>\n",
       "      <th>15</th>\n",
       "      <td>0.919725</td>\n",
       "      <td>0.274981</td>\n",
       "    </tr>\n",
       "    <tr>\n",
       "      <th>16</th>\n",
       "      <td>0.909084</td>\n",
       "      <td>0.275326</td>\n",
       "    </tr>\n",
       "    <tr>\n",
       "      <th>17</th>\n",
       "      <td>0.883021</td>\n",
       "      <td>0.267610</td>\n",
       "    </tr>\n",
       "    <tr>\n",
       "      <th>18</th>\n",
       "      <td>0.307780</td>\n",
       "      <td>-0.075328</td>\n",
       "    </tr>\n",
       "    <tr>\n",
       "      <th>19</th>\n",
       "      <td>0.268388</td>\n",
       "      <td>-0.081177</td>\n",
       "    </tr>\n",
       "    <tr>\n",
       "      <th>20</th>\n",
       "      <td>0.295166</td>\n",
       "      <td>-0.087862</td>\n",
       "    </tr>\n",
       "    <tr>\n",
       "      <th>21</th>\n",
       "      <td>0.269584</td>\n",
       "      <td>-0.085527</td>\n",
       "    </tr>\n",
       "    <tr>\n",
       "      <th>22</th>\n",
       "      <td>0.261721</td>\n",
       "      <td>-0.083270</td>\n",
       "    </tr>\n",
       "    <tr>\n",
       "      <th>23</th>\n",
       "      <td>0.243251</td>\n",
       "      <td>-0.078928</td>\n",
       "    </tr>\n",
       "    <tr>\n",
       "      <th>24</th>\n",
       "      <td>-0.103050</td>\n",
       "      <td>0.294419</td>\n",
       "    </tr>\n",
       "  </tbody>\n",
       "</table>\n",
       "</div>"
      ],
      "text/plain": [
       "           0         1\n",
       "0   0.032847 -0.022339\n",
       "1   0.452151 -0.365615\n",
       "2  -0.008599 -0.070602\n",
       "3  -0.048835  0.143751\n",
       "4  -0.047602  0.045676\n",
       "5   0.085335 -0.066320\n",
       "6  -0.009387  0.684212\n",
       "7   0.010005  0.816484\n",
       "8   0.009020  0.850037\n",
       "9   0.020934  0.865606\n",
       "10  0.044864  0.842782\n",
       "11  0.067996  0.776062\n",
       "12  0.856520  0.250417\n",
       "13  0.889725  0.268524\n",
       "14  0.908290  0.266671\n",
       "15  0.919725  0.274981\n",
       "16  0.909084  0.275326\n",
       "17  0.883021  0.267610\n",
       "18  0.307780 -0.075328\n",
       "19  0.268388 -0.081177\n",
       "20  0.295166 -0.087862\n",
       "21  0.269584 -0.085527\n",
       "22  0.261721 -0.083270\n",
       "23  0.243251 -0.078928\n",
       "24 -0.103050  0.294419"
      ]
     },
     "execution_count": 46,
     "metadata": {
      "tags": []
     },
     "output_type": "execute_result"
    }
   ],
   "source": [
    "pd.DataFrame(fa.loadings_)"
   ]
  },
  {
   "cell_type": "code",
   "execution_count": 47,
   "metadata": {
    "id": "D9125yYa0V7y"
   },
   "outputs": [],
   "source": [
    "y = df_full['default payment next month']\n",
    "X = df_full.drop(columns=['default payment next month'])"
   ]
  },
  {
   "cell_type": "code",
   "execution_count": 50,
   "metadata": {
    "id": "GwS6s3Lw0V7y"
   },
   "outputs": [],
   "source": [
    "from sklearn.model_selection import train_test_split  \n",
    "X_train, X_test, y_train, y_test = train_test_split(X, y, test_size=0.33, random_state=1234)"
   ]
  },
  {
   "cell_type": "code",
   "execution_count": 52,
   "metadata": {
    "id": "XVHSbR7W0V7y"
   },
   "outputs": [],
   "source": [
    "grid_search_res = GridSearchCV(cv=5, error_score='raise',\n",
    "       estimator=XGBClassifier(base_score=0.5, seed=1234, \n",
    "                               \n",
    "       objective='binary:logistic',                  \n",
    "       colsample_bylevel=1, colsample_bytree=0.8, subsample=0.8,\n",
    "       gamma=0, learning_rate=0.1, max_delta_step=0, \n",
    "       min_child_weight=1, missing=None, nthread=-1,\n",
    "       reg_alpha=0, reg_lambda=1, \n",
    "       scale_pos_weight=1), n_jobs=-1,\n",
    "       param_grid=grid_param,\n",
    "       pre_dispatch='2*n_jobs', refit=True, scoring='accuracy', verbose=0)"
   ]
  },
  {
   "cell_type": "code",
   "execution_count": 53,
   "metadata": {
    "colab": {
     "base_uri": "https://localhost:8080/"
    },
    "id": "yfSGdFOw0V7z",
    "outputId": "a97fb503-5802-40f3-c4ea-e01b529506fc"
   },
   "outputs": [
    {
     "data": {
      "text/plain": [
       "GridSearchCV(cv=5, error_score='raise',\n",
       "             estimator=XGBClassifier(base_score=0.5, booster='gbtree',\n",
       "                                     colsample_bylevel=1, colsample_bynode=1,\n",
       "                                     colsample_bytree=0.8, gamma=0,\n",
       "                                     learning_rate=0.1, max_delta_step=0,\n",
       "                                     max_depth=3, min_child_weight=1,\n",
       "                                     missing=None, n_estimators=100, n_jobs=1,\n",
       "                                     nthread=-1, objective='binary:logistic',\n",
       "                                     random_state=0, reg_alpha=0, reg_lambda=1,\n",
       "                                     scale_pos_weight=1, seed=1234, silent=None,\n",
       "                                     subsample=0.8, verbosity=1),\n",
       "             iid='deprecated', n_jobs=-1,\n",
       "             param_grid={'max_depth': [3], 'n_estimators': [500]},\n",
       "             pre_dispatch='2*n_jobs', refit=True, return_train_score=False,\n",
       "             scoring='accuracy', verbose=0)"
      ]
     },
     "execution_count": 53,
     "metadata": {
      "tags": []
     },
     "output_type": "execute_result"
    }
   ],
   "source": [
    "grid_search_res.fit(X_train, y_train)"
   ]
  },
  {
   "cell_type": "code",
   "execution_count": 54,
   "metadata": {
    "colab": {
     "base_uri": "https://localhost:8080/"
    },
    "id": "5EUK-ekl0V7z",
    "outputId": "e934dcb2-7e4e-4533-f0d8-7833ac870bab"
   },
   "outputs": [
    {
     "name": "stdout",
     "output_type": "stream",
     "text": [
      "Best params on dev set:\n",
      "{'max_depth': 3, 'n_estimators': 500}\n"
     ]
    }
   ],
   "source": [
    "print(\"Best params on dev set:\")\n",
    "print(grid_search_res.best_params_)"
   ]
  },
  {
   "cell_type": "code",
   "execution_count": 55,
   "metadata": {
    "id": "uTmlIHrT0V7z"
   },
   "outputs": [],
   "source": [
    "y_pred_train = grid_search_res.predict(X_train)\n",
    "y_pred_test = grid_search_res.predict(X_test)"
   ]
  },
  {
   "cell_type": "code",
   "execution_count": 56,
   "metadata": {
    "colab": {
     "base_uri": "https://localhost:8080/",
     "height": 106
    },
    "id": "jWB4eSYF0V70",
    "outputId": "1ca09d6a-7253-4f90-e1a2-5f82d8d22a52"
   },
   "outputs": [
    {
     "data": {
      "text/html": [
       "<div>\n",
       "<style scoped>\n",
       "    .dataframe tbody tr th:only-of-type {\n",
       "        vertical-align: middle;\n",
       "    }\n",
       "\n",
       "    .dataframe tbody tr th {\n",
       "        vertical-align: top;\n",
       "    }\n",
       "\n",
       "    .dataframe thead th {\n",
       "        text-align: right;\n",
       "    }\n",
       "</style>\n",
       "<table border=\"1\" class=\"dataframe\">\n",
       "  <thead>\n",
       "    <tr style=\"text-align: right;\">\n",
       "      <th></th>\n",
       "      <th>0</th>\n",
       "      <th>1</th>\n",
       "    </tr>\n",
       "  </thead>\n",
       "  <tbody>\n",
       "    <tr>\n",
       "      <th>0</th>\n",
       "      <td>7326</td>\n",
       "      <td>354</td>\n",
       "    </tr>\n",
       "    <tr>\n",
       "      <th>1</th>\n",
       "      <td>899</td>\n",
       "      <td>1321</td>\n",
       "    </tr>\n",
       "  </tbody>\n",
       "</table>\n",
       "</div>"
      ],
      "text/plain": [
       "      0     1\n",
       "0  7326   354\n",
       "1   899  1321"
      ]
     },
     "execution_count": 56,
     "metadata": {
      "tags": []
     },
     "output_type": "execute_result"
    }
   ],
   "source": [
    "conf_mat = metrics.confusion_matrix(y_test, y_pred_test)\n",
    "conf_mat = pd.DataFrame(conf_mat, index=grid_search_res.classes_, columns=grid_search_res.classes_)\n",
    "conf_mat"
   ]
  },
  {
   "cell_type": "code",
   "execution_count": 57,
   "metadata": {
    "colab": {
     "base_uri": "https://localhost:8080/",
     "height": 106
    },
    "id": "BrWJNOor0V70",
    "outputId": "d35b49c2-882d-4fa2-8b3e-41c21087149e"
   },
   "outputs": [
    {
     "data": {
      "text/html": [
       "<div>\n",
       "<style scoped>\n",
       "    .dataframe tbody tr th:only-of-type {\n",
       "        vertical-align: middle;\n",
       "    }\n",
       "\n",
       "    .dataframe tbody tr th {\n",
       "        vertical-align: top;\n",
       "    }\n",
       "\n",
       "    .dataframe thead th {\n",
       "        text-align: right;\n",
       "    }\n",
       "</style>\n",
       "<table border=\"1\" class=\"dataframe\">\n",
       "  <thead>\n",
       "    <tr style=\"text-align: right;\">\n",
       "      <th></th>\n",
       "      <th>0</th>\n",
       "      <th>1</th>\n",
       "    </tr>\n",
       "  </thead>\n",
       "  <tbody>\n",
       "    <tr>\n",
       "      <th>0</th>\n",
       "      <td>15226</td>\n",
       "      <td>458</td>\n",
       "    </tr>\n",
       "    <tr>\n",
       "      <th>1</th>\n",
       "      <td>1464</td>\n",
       "      <td>2952</td>\n",
       "    </tr>\n",
       "  </tbody>\n",
       "</table>\n",
       "</div>"
      ],
      "text/plain": [
       "       0     1\n",
       "0  15226   458\n",
       "1   1464  2952"
      ]
     },
     "execution_count": 57,
     "metadata": {
      "tags": []
     },
     "output_type": "execute_result"
    }
   ],
   "source": [
    "conf_mat = metrics.confusion_matrix(y_train, y_pred_train)\n",
    "conf_mat = pd.DataFrame(conf_mat, index=grid_search_res.classes_, columns=grid_search_res.classes_)\n",
    "conf_mat"
   ]
  },
  {
   "cell_type": "code",
   "execution_count": 58,
   "metadata": {
    "colab": {
     "base_uri": "https://localhost:8080/"
    },
    "id": "NN1qkDzR0V70",
    "outputId": "c30a9380-fdff-4f14-b719-7676bff75e04"
   },
   "outputs": [
    {
     "name": "stdout",
     "output_type": "stream",
     "text": [
      "[[0.9787651  0.02123494]\n",
      " [0.9709744  0.02902564]\n",
      " [0.9695255  0.0304745 ]\n",
      " ...\n",
      " [0.712792   0.28720802]\n",
      " [0.9757728  0.0242272 ]\n",
      " [0.64008313 0.35991687]]\n",
      "[[0.83910507 0.16089492]\n",
      " [0.9550096  0.04499044]\n",
      " [0.95053464 0.04946533]\n",
      " ...\n",
      " [0.9730354  0.02696458]\n",
      " [0.9638043  0.03619572]\n",
      " [0.8383645  0.16163549]]\n"
     ]
    }
   ],
   "source": [
    "y_pred_train2 = grid_search_res.predict_proba(X_train)\n",
    "y_pred_test2 = grid_search_res.predict_proba(X_test)\n",
    "print(y_pred_train2)\n",
    "print(y_pred_test2)"
   ]
  },
  {
   "cell_type": "code",
   "execution_count": 60,
   "metadata": {
    "colab": {
     "base_uri": "https://localhost:8080/"
    },
    "id": "ps1nWvR10V71",
    "outputId": "74b27e06-02ac-4789-e543-27c50646f27a"
   },
   "outputs": [
    {
     "name": "stdout",
     "output_type": "stream",
     "text": [
      "              precision    recall  f1-score   support\n",
      "\n",
      "           0       0.95      0.89      0.92      8225\n",
      "           1       0.60      0.79      0.68      1675\n",
      "\n",
      "    accuracy                           0.87      9900\n",
      "   macro avg       0.77      0.84      0.80      9900\n",
      "weighted avg       0.89      0.87      0.88      9900\n",
      "\n"
     ]
    }
   ],
   "source": [
    "y_pred_train2 = grid_search_res.predict(X_train)\n",
    "y_pred_test2 = grid_search_res.predict(X_test)\n",
    "print(metrics.classification_report(y_pred_test2, y_test))"
   ]
  },
  {
   "cell_type": "code",
   "execution_count": 61,
   "metadata": {
    "colab": {
     "base_uri": "https://localhost:8080/"
    },
    "id": "9EMMqxs50V71",
    "outputId": "dcd0dfb3-4aa0-4bb2-cb40-86edcc5a20c2"
   },
   "outputs": [
    {
     "name": "stdout",
     "output_type": "stream",
     "text": [
      "Accuracy on train set is  90.43781094527364\n",
      "Accuracy on test set is  87.34343434343434\n"
     ]
    }
   ],
   "source": [
    "from sklearn.metrics import accuracy_score\n",
    "print(\"Accuracy on train set is \", accuracy_score(y_train, y_pred_train)*100)\n",
    "print(\"Accuracy on test set is \", accuracy_score(y_test, y_pred_test)*100)"
   ]
  },
  {
   "cell_type": "markdown",
   "metadata": {
    "id": "uRMba_-w2NPs"
   },
   "source": [
    "Видим хороший результат accuracy, поэтому остановимся на 2-х факторах."
   ]
  },
  {
   "cell_type": "code",
   "execution_count": 62,
   "metadata": {
    "colab": {
     "base_uri": "https://localhost:8080/",
     "height": 343
    },
    "id": "9hbRCHtN0V71",
    "outputId": "95473002-6b6f-4171-f7dc-73899e6bb3e6"
   },
   "outputs": [
    {
     "data": {
      "text/html": [
       "<div>\n",
       "<style scoped>\n",
       "    .dataframe tbody tr th:only-of-type {\n",
       "        vertical-align: middle;\n",
       "    }\n",
       "\n",
       "    .dataframe tbody tr th {\n",
       "        vertical-align: top;\n",
       "    }\n",
       "\n",
       "    .dataframe thead th {\n",
       "        text-align: right;\n",
       "    }\n",
       "</style>\n",
       "<table border=\"1\" class=\"dataframe\">\n",
       "  <thead>\n",
       "    <tr style=\"text-align: right;\">\n",
       "      <th></th>\n",
       "      <th>features</th>\n",
       "      <th>importance</th>\n",
       "    </tr>\n",
       "  </thead>\n",
       "  <tbody>\n",
       "    <tr>\n",
       "      <th>6</th>\n",
       "      <td>PAY_0</td>\n",
       "      <td>0.126184</td>\n",
       "    </tr>\n",
       "    <tr>\n",
       "      <th>25</th>\n",
       "      <td>F2</td>\n",
       "      <td>0.098917</td>\n",
       "    </tr>\n",
       "    <tr>\n",
       "      <th>15</th>\n",
       "      <td>BILL_AMT4</td>\n",
       "      <td>0.060751</td>\n",
       "    </tr>\n",
       "    <tr>\n",
       "      <th>16</th>\n",
       "      <td>BILL_AMT5</td>\n",
       "      <td>0.059135</td>\n",
       "    </tr>\n",
       "    <tr>\n",
       "      <th>12</th>\n",
       "      <td>BILL_AMT1</td>\n",
       "      <td>0.047243</td>\n",
       "    </tr>\n",
       "    <tr>\n",
       "      <th>11</th>\n",
       "      <td>PAY_6</td>\n",
       "      <td>0.040605</td>\n",
       "    </tr>\n",
       "    <tr>\n",
       "      <th>1</th>\n",
       "      <td>LIMIT_BAL</td>\n",
       "      <td>0.040428</td>\n",
       "    </tr>\n",
       "    <tr>\n",
       "      <th>24</th>\n",
       "      <td>F1</td>\n",
       "      <td>0.039294</td>\n",
       "    </tr>\n",
       "    <tr>\n",
       "      <th>18</th>\n",
       "      <td>PAY_AMT1</td>\n",
       "      <td>0.037288</td>\n",
       "    </tr>\n",
       "    <tr>\n",
       "      <th>14</th>\n",
       "      <td>BILL_AMT3</td>\n",
       "      <td>0.034327</td>\n",
       "    </tr>\n",
       "  </tbody>\n",
       "</table>\n",
       "</div>"
      ],
      "text/plain": [
       "     features  importance\n",
       "6       PAY_0    0.126184\n",
       "25         F2    0.098917\n",
       "15  BILL_AMT4    0.060751\n",
       "16  BILL_AMT5    0.059135\n",
       "12  BILL_AMT1    0.047243\n",
       "11      PAY_6    0.040605\n",
       "1   LIMIT_BAL    0.040428\n",
       "24         F1    0.039294\n",
       "18   PAY_AMT1    0.037288\n",
       "14  BILL_AMT3    0.034327"
      ]
     },
     "execution_count": 62,
     "metadata": {
      "tags": []
     },
     "output_type": "execute_result"
    }
   ],
   "source": [
    "fi = pd.DataFrame({'features': X_train.columns, 'importance': grid_search_res.best_estimator_.feature_importances_})\n",
    "fi.sort_values('importance', ascending=False).head(10)"
   ]
  }
 ],
 "metadata": {
  "colab": {
   "collapsed_sections": [],
   "name": "Lab_5.ipynb",
   "provenance": []
  },
  "kernelspec": {
   "display_name": "Python 3",
   "language": "python",
   "name": "python3"
  },
  "language_info": {
   "codemirror_mode": {
    "name": "ipython",
    "version": 3
   },
   "file_extension": ".py",
   "mimetype": "text/x-python",
   "name": "python",
   "nbconvert_exporter": "python",
   "pygments_lexer": "ipython3",
   "version": "3.7.4"
  }
 },
 "nbformat": 4,
 "nbformat_minor": 1
}
