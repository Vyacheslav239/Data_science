{
 "cells": [
  {
   "cell_type": "markdown",
   "metadata": {},
   "source": [
    "## Лабораторная робата №1"
   ]
  },
  {
   "cell_type": "code",
   "execution_count": 2,
   "metadata": {},
   "outputs": [],
   "source": [
    "import numpy as np\n",
    "import pandas as pd\n",
    "import matplotlib\n",
    "import matplotlib.pyplot as plt\n",
    "import os"
   ]
  },
  {
   "cell_type": "code",
   "execution_count": 3,
   "metadata": {
    "scrolled": true
   },
   "outputs": [],
   "source": [
    "os.chdir(\"C:/Users/вячеслав/Desktop/Lect_04/\")"
   ]
  },
  {
   "cell_type": "code",
   "execution_count": 4,
   "metadata": {},
   "outputs": [],
   "source": [
    "df = pd.read_csv(\"Econom_Cities_data.csv\", delimiter = ';', decimal = ',', index_col='City')"
   ]
  },
  {
   "cell_type": "code",
   "execution_count": 5,
   "metadata": {},
   "outputs": [
    {
     "data": {
      "text/html": [
       "<div>\n",
       "<style scoped>\n",
       "    .dataframe tbody tr th:only-of-type {\n",
       "        vertical-align: middle;\n",
       "    }\n",
       "\n",
       "    .dataframe tbody tr th {\n",
       "        vertical-align: top;\n",
       "    }\n",
       "\n",
       "    .dataframe thead th {\n",
       "        text-align: right;\n",
       "    }\n",
       "</style>\n",
       "<table border=\"1\" class=\"dataframe\">\n",
       "  <thead>\n",
       "    <tr style=\"text-align: right;\">\n",
       "      <th></th>\n",
       "      <th>Work</th>\n",
       "      <th>Price</th>\n",
       "      <th>Salary</th>\n",
       "    </tr>\n",
       "    <tr>\n",
       "      <th>City</th>\n",
       "      <th></th>\n",
       "      <th></th>\n",
       "      <th></th>\n",
       "    </tr>\n",
       "  </thead>\n",
       "  <tbody>\n",
       "    <tr>\n",
       "      <td>Amsterdam</td>\n",
       "      <td>1714</td>\n",
       "      <td>65.6</td>\n",
       "      <td>49.0</td>\n",
       "    </tr>\n",
       "    <tr>\n",
       "      <td>Athens</td>\n",
       "      <td>1792</td>\n",
       "      <td>53.8</td>\n",
       "      <td>30.4</td>\n",
       "    </tr>\n",
       "    <tr>\n",
       "      <td>Bogota</td>\n",
       "      <td>2152</td>\n",
       "      <td>37.9</td>\n",
       "      <td>11.5</td>\n",
       "    </tr>\n",
       "    <tr>\n",
       "      <td>Bombay</td>\n",
       "      <td>2052</td>\n",
       "      <td>30.3</td>\n",
       "      <td>5.3</td>\n",
       "    </tr>\n",
       "    <tr>\n",
       "      <td>Brussels</td>\n",
       "      <td>1708</td>\n",
       "      <td>73.8</td>\n",
       "      <td>50.5</td>\n",
       "    </tr>\n",
       "  </tbody>\n",
       "</table>\n",
       "</div>"
      ],
      "text/plain": [
       "           Work  Price  Salary\n",
       "City                          \n",
       "Amsterdam  1714   65.6    49.0\n",
       "Athens     1792   53.8    30.4\n",
       "Bogota     2152   37.9    11.5\n",
       "Bombay     2052   30.3     5.3\n",
       "Brussels   1708   73.8    50.5"
      ]
     },
     "execution_count": 5,
     "metadata": {},
     "output_type": "execute_result"
    }
   ],
   "source": [
    "df.head()"
   ]
  },
  {
   "cell_type": "code",
   "execution_count": 6,
   "metadata": {},
   "outputs": [
    {
     "name": "stdout",
     "output_type": "stream",
     "text": [
      "                Work  Price  Salary\n",
      "City                               \n",
      "Amsterdam       1714   65.6    49.0\n",
      "Athens          1792   53.8    30.4\n",
      "Bogota          2152   37.9    11.5\n",
      "Bombay          2052   30.3     5.3\n",
      "Brussels        1708   73.8    50.5\n",
      "Buenos_Aires    1971   56.1    12.5\n",
      "Cairo          -9999   37.1 -9999.0\n",
      "Caracas         2041   61.0    10.9\n",
      "Chicago         1924   73.9    61.9\n",
      "Copenhagen      1717   91.3    62.9\n",
      "Dublin          1759   76.0    41.4\n",
      "Dusseldorf      1693   78.5    60.2\n",
      "Frankfurt       1650   74.5    60.4\n",
      "Geneva          1880   95.9    90.3\n",
      "Helsinki        1667  113.6    66.6\n",
      "Hong_Kong       2375   63.8    27.8\n",
      "Houston         1978   71.9    46.3\n",
      "Jakarta        -9999   43.6 -9999.0\n",
      "Johannesburg    1945   51.1    24.0\n",
      "Kuala_Lumpur    2167   43.5     9.9\n",
      "Lagos           1786   45.2     2.7\n",
      "Lisbon          1742   56.2    18.8\n",
      "London          1737   84.2    46.2\n",
      "Los_Angeles     2068   79.8    65.2\n",
      "Luxembourg      1768   71.1    71.1\n",
      "Madrid          1710   93.8    50.0\n",
      "Manila          2268   40.0     4.0\n",
      "Mexico_City     1944   49.8     5.7\n",
      "Milan           1773   82.0    53.3\n",
      "Montreal        1827   72.7    56.3\n",
      "Nairobi         1958   45.0     5.8\n",
      "New_York        1942   83.3    65.8\n",
      "Nicosia         1825   47.9    28.3\n",
      "Oslo            1583  115.5    63.7\n",
      "Panama          2078   49.2    13.8\n",
      "Paris           1744   81.6    45.9\n",
      "Rio_de_Janeiro  1749   46.3    10.5\n",
      "San_Paulo       1856   48.9    11.1\n",
      "Seoul           1842   58.3    32.7\n",
      "Singpore        2042   64.4    16.1\n",
      "Stockholm       1805  111.3    39.2\n",
      "Sydney          1668   70.8    52.1\n",
      "Taipei          2145   84.3    34.5\n",
      "Tel_Aviv        2015   67.3    27.0\n",
      "Tokyo           1880  115.0    68.0\n",
      "Toronto         1888   70.2    58.2\n",
      "Vienna          1780   78.0    51.3\n",
      "Zurich          1868  100.0   100.0\n"
     ]
    }
   ],
   "source": [
    "print(df)"
   ]
  },
  {
   "cell_type": "markdown",
   "metadata": {},
   "source": [
    "Заметим, что Джакарта и Каир имееют странные показатели в 1-м и 3-м столбце, которые существенно отличаются от остальных, следовательно это выбросы и перед тем как построить дендограмму удалим их.  "
   ]
  },
  {
   "cell_type": "code",
   "execution_count": 11,
   "metadata": {},
   "outputs": [],
   "source": [
    "#Процесс удаления\n",
    "df = df.drop('Jakarta')\n",
    "df = df.drop('Cairo')"
   ]
  },
  {
   "cell_type": "code",
   "execution_count": 12,
   "metadata": {},
   "outputs": [
    {
     "name": "stdout",
     "output_type": "stream",
     "text": [
      "                Work  Price  Salary\n",
      "City                               \n",
      "Amsterdam       1714   65.6    49.0\n",
      "Athens          1792   53.8    30.4\n",
      "Bogota          2152   37.9    11.5\n",
      "Bombay          2052   30.3     5.3\n",
      "Brussels        1708   73.8    50.5\n",
      "Buenos_Aires    1971   56.1    12.5\n",
      "Caracas         2041   61.0    10.9\n",
      "Chicago         1924   73.9    61.9\n",
      "Copenhagen      1717   91.3    62.9\n",
      "Dublin          1759   76.0    41.4\n",
      "Dusseldorf      1693   78.5    60.2\n",
      "Frankfurt       1650   74.5    60.4\n",
      "Geneva          1880   95.9    90.3\n",
      "Helsinki        1667  113.6    66.6\n",
      "Hong_Kong       2375   63.8    27.8\n",
      "Houston         1978   71.9    46.3\n",
      "Johannesburg    1945   51.1    24.0\n",
      "Kuala_Lumpur    2167   43.5     9.9\n",
      "Lagos           1786   45.2     2.7\n",
      "Lisbon          1742   56.2    18.8\n",
      "London          1737   84.2    46.2\n",
      "Los_Angeles     2068   79.8    65.2\n",
      "Luxembourg      1768   71.1    71.1\n",
      "Madrid          1710   93.8    50.0\n",
      "Manila          2268   40.0     4.0\n",
      "Mexico_City     1944   49.8     5.7\n",
      "Milan           1773   82.0    53.3\n",
      "Montreal        1827   72.7    56.3\n",
      "Nairobi         1958   45.0     5.8\n",
      "New_York        1942   83.3    65.8\n",
      "Nicosia         1825   47.9    28.3\n",
      "Oslo            1583  115.5    63.7\n",
      "Panama          2078   49.2    13.8\n",
      "Paris           1744   81.6    45.9\n",
      "Rio_de_Janeiro  1749   46.3    10.5\n",
      "San_Paulo       1856   48.9    11.1\n",
      "Seoul           1842   58.3    32.7\n",
      "Singpore        2042   64.4    16.1\n",
      "Stockholm       1805  111.3    39.2\n",
      "Sydney          1668   70.8    52.1\n",
      "Taipei          2145   84.3    34.5\n",
      "Tel_Aviv        2015   67.3    27.0\n",
      "Tokyo           1880  115.0    68.0\n",
      "Toronto         1888   70.2    58.2\n",
      "Vienna          1780   78.0    51.3\n",
      "Zurich          1868  100.0   100.0\n"
     ]
    }
   ],
   "source": [
    "print(df)"
   ]
  },
  {
   "cell_type": "markdown",
   "metadata": {},
   "source": [
    "Заметим, что нам надо провести стандартизацию данных. "
   ]
  },
  {
   "cell_type": "code",
   "execution_count": 13,
   "metadata": {},
   "outputs": [
    {
     "data": {
      "text/html": [
       "<div>\n",
       "<style scoped>\n",
       "    .dataframe tbody tr th:only-of-type {\n",
       "        vertical-align: middle;\n",
       "    }\n",
       "\n",
       "    .dataframe tbody tr th {\n",
       "        vertical-align: top;\n",
       "    }\n",
       "\n",
       "    .dataframe thead th {\n",
       "        text-align: right;\n",
       "    }\n",
       "</style>\n",
       "<table border=\"1\" class=\"dataframe\">\n",
       "  <thead>\n",
       "    <tr style=\"text-align: right;\">\n",
       "      <th></th>\n",
       "      <th>Work</th>\n",
       "      <th>Price</th>\n",
       "      <th>Salary</th>\n",
       "    </tr>\n",
       "    <tr>\n",
       "      <th>City</th>\n",
       "      <th></th>\n",
       "      <th></th>\n",
       "      <th></th>\n",
       "    </tr>\n",
       "  </thead>\n",
       "  <tbody>\n",
       "    <tr>\n",
       "      <td>Amsterdam</td>\n",
       "      <td>-0.962166</td>\n",
       "      <td>-0.212712</td>\n",
       "      <td>0.386095</td>\n",
       "    </tr>\n",
       "    <tr>\n",
       "      <td>Athens</td>\n",
       "      <td>-0.509827</td>\n",
       "      <td>-0.770489</td>\n",
       "      <td>-0.373488</td>\n",
       "    </tr>\n",
       "    <tr>\n",
       "      <td>Bogota</td>\n",
       "      <td>1.577891</td>\n",
       "      <td>-1.522069</td>\n",
       "      <td>-1.145323</td>\n",
       "    </tr>\n",
       "    <tr>\n",
       "      <td>Bombay</td>\n",
       "      <td>0.997969</td>\n",
       "      <td>-1.881316</td>\n",
       "      <td>-1.398517</td>\n",
       "    </tr>\n",
       "    <tr>\n",
       "      <td>Brussels</td>\n",
       "      <td>-0.996961</td>\n",
       "      <td>0.174896</td>\n",
       "      <td>0.447351</td>\n",
       "    </tr>\n",
       "  </tbody>\n",
       "</table>\n",
       "</div>"
      ],
      "text/plain": [
       "               Work     Price    Salary\n",
       "City                                   \n",
       "Amsterdam -0.962166 -0.212712  0.386095\n",
       "Athens    -0.509827 -0.770489 -0.373488\n",
       "Bogota     1.577891 -1.522069 -1.145323\n",
       "Bombay     0.997969 -1.881316 -1.398517\n",
       "Brussels  -0.996961  0.174896  0.447351"
      ]
     },
     "execution_count": 13,
     "metadata": {},
     "output_type": "execute_result"
    }
   ],
   "source": [
    "#Стандартизируем данные \n",
    "from sklearn import preprocessing\n",
    "\n",
    "standart = preprocessing.StandardScaler()\n",
    "standart.fit(df)\n",
    "df_s = standart.transform(df)\n",
    "df_s = pd.DataFrame(df_s, index = df.index, columns = df.columns)\n",
    "\n",
    "df_s.head()"
   ]
  },
  {
   "cell_type": "markdown",
   "metadata": {},
   "source": [
    "Начинаем строить дендограмму. "
   ]
  },
  {
   "cell_type": "code",
   "execution_count": 14,
   "metadata": {},
   "outputs": [],
   "source": [
    "from scipy.cluster.hierarchy import dendrogram, linkage, fcluster\n",
    "link = linkage(df_s, 'ward', 'euclidean')"
   ]
  },
  {
   "cell_type": "code",
   "execution_count": 15,
   "metadata": {},
   "outputs": [
    {
     "data": {
      "image/png": "[encoded data removed]",
      "text/plain": [
       "<Figure size 864x864 with 1 Axes>"
      ]
     },
     "metadata": {
      "needs_background": "light"
     },
     "output_type": "display_data"
    }
   ],
   "source": [
    "#Строим дендаграмму, предварительно отключив автоматическое разбиение на кластеры (color_threshold = -1)\n",
    "figr = plt.figure(figsize = (12,12))\n",
    "dn1 = dendrogram(link, color_threshold = -1, labels = df.index.tolist())"
   ]
  },
  {
   "cell_type": "markdown",
   "metadata": {},
   "source": [
    "В качестве порога для расстояния возьмем значение = 2, тогда у нас получится 8 класстеров, описание которых мы приведем ниже."
   ]
  },
  {
   "cell_type": "code",
   "execution_count": 16,
   "metadata": {},
   "outputs": [
    {
     "data": {
      "image/png": "[encoded data removed]",
      "text/plain": [
       "<Figure size 864x864 with 1 Axes>"
      ]
     },
     "metadata": {
      "needs_background": "light"
     },
     "output_type": "display_data"
    }
   ],
   "source": [
    "#Раскрашиваем нашу дендограмму \n",
    "figr = plt.figure(figsize = (12,12))\n",
    "dn1 = dendrogram(link, color_threshold = 2, labels = df.index.tolist())"
   ]
  },
  {
   "cell_type": "code",
   "execution_count": 26,
   "metadata": {},
   "outputs": [],
   "source": [
    "df_s['cluster'] = fcluster(link, 2, criterion='distance')"
   ]
  },
  {
   "cell_type": "markdown",
   "metadata": {},
   "source": [
    "Опишем получившиеся кластеры: \n",
    "- 1) Города Швейцарии \n",
    "- 2) Города с высоким уровнем жизни, с высокой стоймостью на жилье и средними зарплатами\n",
    "- 3) Города Северной Америки развитых капиталистических стран, с достаточно большим уровнем безработицы, судя по большому числу часов работы и средней зарплаты \n",
    "- 4) Города с уровнем жизни выше среднего\n",
    "- 5) Города зависимых капиталистических стран с уровнем жизни около среднего\n",
    "- 6) Города с среднем уровнем жизни, с высоким числом часов работы и с зарплатами ниже среднего, скорее всего в этих городах нередки протесты\n",
    "- 7) Города с дешевой рабочей силой и с низким уровнем жизни, скорее всего это города, в которых расположено много предприятий крупных компаний развитых капиталистических стран, использующих дешевый труд\n",
    "- 8) Города с низкой зарплатой и средней или чуть выше средней стоймостью на жилье, скорее всего это города с высоким социальным неравенством \n",
    "\n",
    "Заметим, что разбиение на расстояние больше 2-х нам не подойдет, ибо тогда у нас как минимум объединятся кластеры 7 и 8, и такое разбиение будет некорректным, так как эти города имеют разный экономический уровень. "
   ]
  },
  {
   "cell_type": "code",
   "execution_count": 28,
   "metadata": {},
   "outputs": [
    {
     "name": "stdout",
     "output_type": "stream",
     "text": [
      "                    Work     Price    Salary  cluster  Cluster\n",
      "City                                                          \n",
      "Amsterdam      -0.962166 -0.212712  0.386095        4        4\n",
      "Athens         -0.509827 -0.770489 -0.373488        5        5\n",
      "Bogota          1.577891 -1.522069 -1.145323        7        7\n",
      "Bombay          0.997969 -1.881316 -1.398517        7        7\n",
      "Brussels       -0.996961  0.174896  0.447351        4        4\n",
      "Buenos_Aires    0.528233 -0.661769 -1.104485        8        8\n",
      "Caracas         0.934178 -0.430150 -1.169825        8        8\n",
      "Chicago         0.255670  0.179623  0.912902        3        3\n",
      "Copenhagen     -0.944768  1.002108  0.953740        4        4\n",
      "Dublin         -0.701201  0.278888  0.075727        4        4\n",
      "Dusseldorf     -1.083949  0.397062  0.843478        4        4\n",
      "Frankfurt      -1.333315  0.207985  0.851646        4        4\n",
      "Geneva          0.000504  1.219546  2.072696        1        1\n",
      "Helsinki       -1.234729  2.056212  1.104840        2        2\n",
      "Hong_Kong       2.871116 -0.297796 -0.479667        6        6\n",
      "Houston         0.568827  0.085085  0.275833        3        3\n",
      "Johannesburg    0.377453 -0.898115 -0.634850        8        8\n",
      "Kuala_Lumpur    1.664879 -1.257362 -1.210663        7        7\n",
      "Lagos          -0.544622 -1.177004 -1.504695        5        5\n",
      "Lisbon         -0.799787 -0.657042 -0.847207        5        5\n",
      "London         -0.828784  0.666496  0.271749        4        4\n",
      "Los_Angeles     1.090757  0.458512  1.047667        3        3\n",
      "Luxembourg     -0.649008  0.047269  1.288610        4        4\n",
      "Madrid         -0.985362  1.120281  0.426933        4        4\n",
      "Manila          2.250600 -1.422804 -1.451606        7        7\n",
      "Mexico_City     0.371654 -0.959565 -1.382182        8        8\n",
      "Milan          -0.620012  0.562504  0.561697        4        4\n",
      "Montreal       -0.306854  0.122900  0.684211        4        4\n",
      "Nairobi         0.452843 -1.186458 -1.378098        8        8\n",
      "New_York        0.360056  0.623954  1.072170        3        3\n",
      "Nicosia        -0.318453 -1.049377 -0.459248        5        5\n",
      "Oslo           -1.721863  2.146023  0.986410        2        2\n",
      "Panama          1.148749 -0.987927 -1.051396        7        7\n",
      "Paris          -0.788189  0.543596  0.259498        4        4\n",
      "Rio_de_Janeiro -0.759193 -1.125008 -1.186160        5        5\n",
      "San_Paulo      -0.138677 -1.002108 -1.161658        5        5\n",
      "Seoul          -0.219866 -0.557777 -0.279561        5        5\n",
      "Singpore        0.939977 -0.269435 -0.957469        8        8\n",
      "Stockholm      -0.434437  1.947493 -0.014116        2        2\n",
      "Sydney         -1.228929  0.033088  0.512692        4        4\n",
      "Taipei          1.537296  0.671223 -0.206053        6        6\n",
      "Tel_Aviv        0.783398 -0.132354 -0.512337        8        8\n",
      "Tokyo           0.000504  2.122389  1.162013        2        2\n",
      "Toronto         0.046898  0.004727  0.761802        3        3\n",
      "Vienna         -0.579417  0.373427  0.480022        4        4\n",
      "Zurich         -0.069086  1.413350  2.468822        1        1\n"
     ]
    }
   ],
   "source": [
    "print(df_s)"
   ]
  },
  {
   "cell_type": "code",
   "execution_count": null,
   "metadata": {},
   "outputs": [],
   "source": []
  }
 ],
 "metadata": {
  "kernelspec": {
   "display_name": "Python 3",
   "language": "python",
   "name": "python3"
  },
  "language_info": {
   "codemirror_mode": {
    "name": "ipython",
    "version": 3
   },
   "file_extension": ".py",
   "mimetype": "text/x-python",
   "name": "python",
   "nbconvert_exporter": "python",
   "pygments_lexer": "ipython3",
   "version": "3.7.4"
  }
 },
 "nbformat": 4,
 "nbformat_minor": 2
}
